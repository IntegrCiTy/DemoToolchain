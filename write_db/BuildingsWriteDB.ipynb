{
 "cells": [
  {
   "cell_type": "code",
   "execution_count": 1,
   "metadata": {},
   "outputs": [],
   "source": [
    "import shapefile, os\n",
    "\n",
    "buildings_sf = shapefile.Reader( os.path.join( os.getcwd(), '..', 'data', 'shapefiles', 'buildings' ) )"
   ]
  },
  {
   "cell_type": "code",
   "execution_count": 2,
   "metadata": {},
   "outputs": [],
   "source": [
    "import pandas as pd\n",
    "\n",
    "buildings_df = pd.read_pickle( os.path.join( os.getcwd(), '..', 'data', 'profiles', 'gas_consumption.pkl' ) )"
   ]
  },
  {
   "cell_type": "code",
   "execution_count": 3,
   "metadata": {},
   "outputs": [],
   "source": [
    "from dblayer import *\n",
    "from dblayer.func.func_citydb_view_nrg import *\n",
    "from dblayer.func.func_citydb_pkg import *\n",
    "from dblayer.func.func_postgis_geom import *"
   ]
  },
  {
   "cell_type": "code",
   "execution_count": 4,
   "metadata": {},
   "outputs": [],
   "source": [
    "connect = PostgreSQLConnectionInfo(\n",
    "    user = 'postgres',\n",
    "    pwd = 'postgres',\n",
    "    host = 'localhost',\n",
    "    port = '5432',\n",
    "    dbname = 'citydb'\n",
    "    )"
   ]
  },
  {
   "cell_type": "code",
   "execution_count": 5,
   "metadata": {},
   "outputs": [],
   "source": [
    "db_access = DBAccess()\n",
    "db_access.connect_to_citydb( connect )"
   ]
  },
  {
   "cell_type": "code",
   "execution_count": 6,
   "metadata": {},
   "outputs": [],
   "source": [
    "db_access.cleanup_citydb_schema()\n",
    "db_access.cleanup_simpkg_schema()"
   ]
  },
  {
   "cell_type": "code",
   "execution_count": 7,
   "metadata": {},
   "outputs": [],
   "source": [
    "srid=4326"
   ]
  },
  {
   "cell_type": "code",
   "execution_count": 8,
   "metadata": {},
   "outputs": [],
   "source": [
    "import datetime\n",
    "\n",
    "for data in buildings_sf:\n",
    "    building_name = data.record['name']\n",
    "    building_energy_carrier = data.record['e_carrier']\n",
    "\n",
    "    geom_2d_points = [ Point2D( p[0], p[1] ) for p in data.shape.points ]\n",
    "\n",
    "    geom = db_access.execute_function( \n",
    "        geom_from_2dpolygon( geom_2d_points, srid )\n",
    "        )\n",
    "\n",
    "    geom_id = db_access.add_citydb_object(\n",
    "        insert_surface_geometry,\n",
    "        geometry = geom\n",
    "        )\n",
    "\n",
    "    building_id = db_access.add_citydb_object(\n",
    "        insert_building,\n",
    "        name = building_name,\n",
    "        lod0_footprint_id = geom_id,\n",
    "        )\n",
    "\n",
    "    if building_energy_carrier == 'gas':\n",
    "\n",
    "        gas_consumption_profile = buildings_df[building_name].tolist()\n",
    "\n",
    "        time_series_id = db_access.add_citydb_object(\n",
    "            insert_regular_time_series,\n",
    "            name = 'ts_gas_consumption_{}'.format( building_name ),\n",
    "            description = 'gas consumption profile of {}'.format( building_name ),\n",
    "            acquisition_method = 'Simulation',\n",
    "            interpolation_type = 'AverageInSucceedingInterval',\n",
    "            values_array = gas_consumption_profile,\n",
    "            values_unit = 'kW',\n",
    "            temporal_extent_begin = datetime.datetime( 2019, 1, 1, 0, 0, 0 ),\n",
    "            temporal_extent_end = datetime.datetime( 2019, 1, 1, 23, 0, 0 ),\n",
    "            time_interval = 1,\n",
    "            time_interval_unit = 'h'\n",
    "            )\n",
    "\n",
    "        final_energy_id = db_access.add_citydb_object(\n",
    "            insert_final_energy,\n",
    "            name = 'final_energy_{}'.format( building_name ),\n",
    "            description = 'gas consumption of {}'.format( building_name ),\n",
    "            nrg_car_type = 'NaturalGas',\n",
    "            time_series_id = time_series_id\n",
    "            )\n",
    "\n",
    "        boiler_id = db_access.add_citydb_object(\n",
    "            insert_boiler,\n",
    "            name = 'gas_boiler_{}'.format( building_name ),\n",
    "            description = 'gas boiler of {}'.format( building_name ),\n",
    "            inst_in_ctyobj_id = building_id\n",
    "            )\n",
    "\n",
    "        db_access.add_citydb_object(\n",
    "            insert_conv_sys_to_final_nrg,\n",
    "            conv_system_id = boiler_id,\n",
    "            final_nrg_id = final_energy_id,\n",
    "            role = 'consumption'\n",
    "            )"
   ]
  },
  {
   "cell_type": "code",
   "execution_count": 9,
   "metadata": {},
   "outputs": [],
   "source": [
    "db_access.commit_citydb_session()"
   ]
  },
  {
   "cell_type": "code",
   "execution_count": null,
   "metadata": {},
   "outputs": [],
   "source": []
  }
 ],
 "metadata": {
  "kernelspec": {
   "display_name": "Python 3",
   "language": "python",
   "name": "python3"
  },
  "language_info": {
   "codemirror_mode": {
    "name": "ipython",
    "version": 3
   },
   "file_extension": ".py",
   "mimetype": "text/x-python",
   "name": "python",
   "nbconvert_exporter": "python",
   "pygments_lexer": "ipython3",
   "version": "3.5.3"
  }
 },
 "nbformat": 4,
 "nbformat_minor": 2
}
