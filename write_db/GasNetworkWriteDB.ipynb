{
 "cells": [
  {
   "cell_type": "code",
   "execution_count": 1,
   "metadata": {},
   "outputs": [],
   "source": [
    "import shapefile"
   ]
  },
  {
   "cell_type": "code",
   "execution_count": 2,
   "metadata": {},
   "outputs": [],
   "source": [
    "import os, os.path"
   ]
  },
  {
   "cell_type": "code",
   "execution_count": 3,
   "metadata": {},
   "outputs": [],
   "source": [
    "from collections import namedtuple\n",
    "\n",
    "NodeData = namedtuple( 'NodeData', [ 'level', 'x' ,'y' ] )\n",
    "nodes = {}\n",
    "\n",
    "SinkData = namedtuple( 'SinkData', [ 'level', 'building_name' ] )\n",
    "sinks = {}\n",
    "\n",
    "SourceData = namedtuple( 'SourceData', [ 'level', 'p_lim_kw', 'p_pa' ] )\n",
    "sources = {}\n",
    "\n",
    "PipeData = namedtuple( 'PipeData', [ 'length', 'diameter_m', 'from_node', 'to_node' ] )\n",
    "pipes = {}"
   ]
  },
  {
   "cell_type": "code",
   "execution_count": 4,
   "metadata": {},
   "outputs": [],
   "source": [
    "gas_nodes_data = shapefile.Reader( os.path.join( os.getcwd(), '..', 'data', 'shapefiles', 'gas_network_nodes' ) )\n",
    "assert( gas_nodes_data.shapeType == shapefile.POINT )"
   ]
  },
  {
   "cell_type": "code",
   "execution_count": 5,
   "metadata": {},
   "outputs": [],
   "source": [
    "for data in gas_nodes_data:\n",
    "    x = data.shape.points[0][0]\n",
    "    y = data.shape.points[0][1]\n",
    "    nodes[data.record['name']] = NodeData( data.record['level'], x, y )\n",
    "    if data.record['type'] == 'SINK':\n",
    "        sinks[data.record['name']] = SinkData( data.record['level'], data.record['build_id'] )\n",
    "    elif data.record['type'] == 'SRCE':\n",
    "        sources[data.record['name']] = SourceData( data.record['level'], data.record['p_lim_kw'], data.record['p_lim_kw'] )"
   ]
  },
  {
   "cell_type": "code",
   "execution_count": 6,
   "metadata": {},
   "outputs": [],
   "source": [
    "gas_pipes_data = shapefile.Reader( os.path.join( os.getcwd(), '..', 'data', 'shapefiles', 'gas_network_pipes' ) )\n",
    "assert( gas_pipes_data.shapeType == shapefile.POLYLINE )"
   ]
  },
  {
   "cell_type": "code",
   "execution_count": 7,
   "metadata": {},
   "outputs": [],
   "source": [
    "from math import *\n",
    "\n",
    "for data in gas_pipes_data:\n",
    "    p1 = data.shape.points[0]\n",
    "    p2 = data.shape.points[1]\n",
    "    length = sqrt( pow( p1[0] - p2[0], 2 ) + pow( p1[1] - p2[1], 2) )\n",
    "    pipes[data.record['name']] = \\\n",
    "        PipeData( length, data.record['diameter_m'], data.record['from_node'], data.record['to_node'] )"
   ]
  },
  {
   "cell_type": "code",
   "execution_count": 8,
   "metadata": {},
   "outputs": [],
   "source": [
    "from dblayer.helpers.utn.gas_network import *\n",
    "\n",
    "connect = PostgreSQLConnectionInfo(\n",
    "    user = 'postgres',\n",
    "    pwd = 'postgres',\n",
    "    host = 'localhost',\n",
    "    port = '5432',\n",
    "    dbname = 'citydb'\n",
    "    )\n",
    "\n",
    "db_access = DBAccess()\n",
    "db_access.connect_to_citydb( connect )"
   ]
  },
  {
   "cell_type": "code",
   "execution_count": 9,
   "metadata": {},
   "outputs": [],
   "source": [
    "srid = 4326"
   ]
  },
  {
   "cell_type": "code",
   "execution_count": 10,
   "metadata": {},
   "outputs": [],
   "source": [
    "( ntw_id, ntw_graph_id ) = write_network_to_db(\n",
    "    db_access,\n",
    "    name = 'gas_network',\n",
    "    id = 3000\n",
    "    )"
   ]
  },
  {
   "cell_type": "code",
   "execution_count": 11,
   "metadata": {},
   "outputs": [],
   "source": [
    "nodes_db_data = {}"
   ]
  },
  {
   "cell_type": "code",
   "execution_count": 12,
   "metadata": {},
   "outputs": [],
   "source": [
    "for name, data in nodes.items():\n",
    "\n",
    "    nodes_db_data[name] = write_network_node_to_db(\n",
    "        db_access,\n",
    "        name,\n",
    "        data.level,\n",
    "        Point2D( data.x, data.y ),\n",
    "        srid,\n",
    "        ntw_id,\n",
    "        ntw_graph_id )"
   ]
  },
  {
   "cell_type": "code",
   "execution_count": 13,
   "metadata": {},
   "outputs": [],
   "source": [
    "for name, data in pipes.items():\n",
    "\n",
    "    write_round_pipe_to_db(\n",
    "        db_access,\n",
    "        name,\n",
    "        nodes_db_data[data.from_node],\n",
    "        nodes_db_data[data.to_node],\n",
    "        srid,\n",
    "        ntw_id,\n",
    "        ntw_graph_id,\n",
    "        int_diameter = data.diameter_m,\n",
    "        int_diameter_unit = 'm'\n",
    "    )"
   ]
  },
  {
   "cell_type": "code",
   "execution_count": 14,
   "metadata": {},
   "outputs": [],
   "source": [
    "buildings_db_data = db_access.get_citydb_objects( 'Building', table_name='building', schema='citydb_view' )\n",
    "buildings_db_id = { b.name: b.id for b in buildings_db_data}"
   ]
  },
  {
   "cell_type": "code",
   "execution_count": 15,
   "metadata": {},
   "outputs": [],
   "source": [
    "for name, data in sinks.items():\n",
    "\n",
    "    write_gas_sink_to_db(\n",
    "        db_access,\n",
    "        name,\n",
    "        nodes_db_data[name],\n",
    "        10.,\n",
    "        'kW',\n",
    "        srid,\n",
    "        ntw_id,\n",
    "        ntw_graph_id,\n",
    "        buildings_db_id[data.building_name]\n",
    "        )"
   ]
  },
  {
   "cell_type": "code",
   "execution_count": 16,
   "metadata": {},
   "outputs": [],
   "source": [
    "for name, data in sources.items():\n",
    "\n",
    "    write_feeder_to_db(\n",
    "        db_access,\n",
    "        name,\n",
    "        nodes_db_data[name],\n",
    "        data.p_lim_kw,\n",
    "        data.p_pa,\n",
    "        srid,\n",
    "        ntw_id,\n",
    "        ntw_graph_id\n",
    "        )"
   ]
  },
  {
   "cell_type": "code",
   "execution_count": 17,
   "metadata": {},
   "outputs": [],
   "source": [
    "db_access.commit_citydb_session()"
   ]
  },
  {
   "cell_type": "code",
   "execution_count": null,
   "metadata": {},
   "outputs": [],
   "source": []
  }
 ],
 "metadata": {
  "kernelspec": {
   "display_name": "Python 3",
   "language": "python",
   "name": "python3"
  },
  "language_info": {
   "codemirror_mode": {
    "name": "ipython",
    "version": 3
   },
   "file_extension": ".py",
   "mimetype": "text/x-python",
   "name": "python",
   "nbconvert_exporter": "python",
   "pygments_lexer": "ipython3",
   "version": "3.5.3"
  }
 },
 "nbformat": 4,
 "nbformat_minor": 2
}
