{
 "cells": [
  {
   "cell_type": "markdown",
   "metadata": {},
   "source": [
    "# Gas grid simulation setup\n",
    "## Creating an empty co-simulation graph"
   ]
  },
  {
   "cell_type": "code",
   "execution_count": 1,
   "metadata": {},
   "outputs": [],
   "source": [
    "from zerobnl import CoSim\n",
    "\n",
    "sim = CoSim()"
   ]
  },
  {
   "cell_type": "markdown",
   "metadata": {},
   "source": [
    "## Read Gas grid from database"
   ]
  },
  {
   "cell_type": "code",
   "execution_count": 2,
   "metadata": {},
   "outputs": [],
   "source": [
    "from dblayer import *\n",
    "\n",
    "connect = PostgreSQLConnectionInfo(\n",
    "    user = 'postgres',\n",
    "    pwd = 'postgres',\n",
    "    host = 'localhost',\n",
    "    port = '5432',\n",
    "    dbname = 'citydb'\n",
    "    )"
   ]
  },
  {
   "cell_type": "code",
   "execution_count": 3,
   "metadata": {},
   "outputs": [],
   "source": [
    "from dblayer.sim.pandangas import *\n",
    "\n",
    "pg_reader = PandaNGasModelDBReader( connect )"
   ]
  },
  {
   "cell_type": "code",
   "execution_count": 4,
   "metadata": {},
   "outputs": [],
   "source": [
    "net = pg_reader.get_net( network_id = 3000 )\n",
    "load_names = [ load[ 'name' ] for index, load in net.load.iterrows() ]"
   ]
  },
  {
   "cell_type": "code",
   "execution_count": 5,
   "metadata": {},
   "outputs": [
    {
     "name": "stdout",
     "output_type": "stream",
     "text": [
      "This pandangas network includes the following parameter tables:\n",
      "   - pipe (287 elements)\n",
      "   - bus (277 elements)\n",
      "   - load (123 elements)\n",
      "   - feeder (2 elements)\n"
     ]
    }
   ],
   "source": [
    "print(net)"
   ]
  },
  {
   "cell_type": "markdown",
   "metadata": {},
   "source": [
    "## Simulation setup for gas grid\n",
    "\n",
    "The gas grid is simulated with the help of package [PandaNGas](https://github.com/IntegrCiTy/PandaNGas)."
   ]
  },
  {
   "cell_type": "code",
   "execution_count": 6,
   "metadata": {},
   "outputs": [],
   "source": [
    "import os.path\n",
    "\n",
    "set_attrs = [ ( n + '/p_kW', 'kW' ) for n in load_names ]\n",
    "\n",
    "sim.create_meta_model(\n",
    "    meta_model = 'GasGridMeta',\n",
    "    list_of_attrs_to_set = set_attrs,\n",
    "    list_of_attrs_to_get = []\n",
    ")\n",
    "\n",
    "sim.create_environment(\n",
    "    env = 'GasGridEnv', \n",
    "    wrapper = os.path.join( 'wrappers', 'wrapper_gasgrid.py' ),\n",
    "    dockerfile = os.path.join( 'dockerfiles', 'Dockerfile_gasgrid' )\n",
    ")\n",
    "\n",
    "sim.add_node(\n",
    "    node = 'GasGrid', \n",
    "    meta = 'GasGridMeta',\n",
    "    env = 'GasGridEnv',\n",
    "    init_values = {   \n",
    "        'dbuser': 'postgres',\n",
    "        'dbpwd': 'postgres',\n",
    "        'dbhost': 'citydb-container',\n",
    "        'dbname': 'citydb',\n",
    "        'dbport': 5432,\n",
    "        'network_id': 3000\n",
    "    }\n",
    ")"
   ]
  },
  {
   "cell_type": "markdown",
   "metadata": {},
   "source": [
    "## Simulation setup for consumers"
   ]
  },
  {
   "cell_type": "code",
   "execution_count": 7,
   "metadata": {},
   "outputs": [],
   "source": [
    "db_access = DBAccess()\n",
    "db_access.connect_to_citydb(connect)\n",
    "\n",
    "\n",
    "FinalEnergy = db_access.map_citydb_object_class( 'FinalEnergy', table_name='nrg8_final_energy_ts', schema='citydb_view' )\n",
    "\n",
    "ConvSystemToFinalEnergy = db_access.map_citydb_object_class( 'ConvSystemToFinalEnergy',\n",
    "    table_name='nrg8_conv_sys_to_final_nrg', schema='citydb', user_defined = True\n",
    "    )\n",
    "\n",
    "Boiler = db_access.map_citydb_object_class( 'Boiler', table_name='nrg8_conv_system', schema='citydb' )\n",
    "\n",
    "TerminalElement = db_access.map_citydb_object_class( 'TerminalElement', table_name='utn9_ntw_feat_term_elem', schema='citydb_view' )\n",
    "\n",
    "NetworkToFeature = db_access.map_citydb_object_class( 'NetworkToFeature',\n",
    "    table_name='utn9_network_to_network_feature', schema='citydb', user_defined = True\n",
    "    )\n",
    "\n",
    "final_energy_db_data = db_access.join_citydb_objects(\n",
    "    [ 'FinalEnergy', 'TerminalElement' ], \n",
    "    conditions = [\n",
    "        FinalEnergy.id == ConvSystemToFinalEnergy.final_nrg_id,\n",
    "        ConvSystemToFinalEnergy.conv_system_id == Boiler.id,\n",
    "        Boiler.inst_in_ctyobj_id == TerminalElement.conn_cityobject_id,\n",
    "        TerminalElement.id == NetworkToFeature.network_feature_id,\n",
    "        NetworkToFeature.network_id == 3000        \n",
    "        ]\n",
    "    )"
   ]
  },
  {
   "cell_type": "code",
   "execution_count": 8,
   "metadata": {},
   "outputs": [],
   "source": [
    "gas_demand = { data[1].name: data[0].ts_values_array for data in final_energy_db_data }\n",
    "time_series_start_date = final_energy_db_data[0][0].ts_temporal_extent_begin\n",
    "time_series_interval = final_energy_db_data[0][0].ts_time_interval\n",
    "time_series_interval_unit = final_energy_db_data[0][0].ts_time_interval_unit\n",
    "time_series_length = final_energy_db_data[0][0].ts_array_length"
   ]
  },
  {
   "cell_type": "code",
   "execution_count": 9,
   "metadata": {},
   "outputs": [],
   "source": [
    "import pandas as pd\n",
    "\n",
    "df = pd.DataFrame.from_dict(gas_demand)\n",
    "\n",
    "date = pd.date_range(\n",
    "    start = time_series_start_date, \n",
    "    periods = time_series_length, \n",
    "    freq = '{length}{unit}'.format( length=time_series_interval, unit=time_series_interval_unit )\n",
    ")\n",
    "\n",
    "df['date'] = date.values\n",
    "df.set_index('date', inplace=True)"
   ]
  },
  {
   "cell_type": "code",
   "execution_count": 10,
   "metadata": {},
   "outputs": [],
   "source": [
    "df.to_pickle( './gas_demand.pkl' )"
   ]
  },
  {
   "cell_type": "code",
   "execution_count": 11,
   "metadata": {},
   "outputs": [],
   "source": [
    "from dblayer.zerobnl.associate import *\n",
    "time_series = final_energy_db_data[0][0]\n",
    "start_date = AssociateCityDBObjectAttribute( time_series, 'ts_temporal_extent_begin' )"
   ]
  },
  {
   "cell_type": "code",
   "execution_count": 12,
   "metadata": {},
   "outputs": [],
   "source": [
    "get_attrs = [ ( n, 'kW' ) for n in load_names ]\n",
    "\n",
    "sim.create_meta_model(\n",
    "    meta_model = 'ConsumersMeta',\n",
    "    list_of_attrs_to_set = [],\n",
    "    list_of_attrs_to_get = get_attrs\n",
    ")\n",
    "\n",
    "sim.create_environment(\n",
    "    env = 'ConsumersEnv', \n",
    "    wrapper = os.path.join( 'wrappers', 'wrapper_consumers.py' ),\n",
    "    dockerfile = os.path.join( 'dockerfiles', 'Dockerfile_consumers' )\n",
    ")\n",
    "\n",
    "sim.add_node(\n",
    "    node = 'Consumers', \n",
    "    meta = 'ConsumersMeta',\n",
    "    env = 'ConsumersEnv',\n",
    "    init_values = { 'start_date': start_date },\n",
    "    files = [ './gas_demand.pkl' ]\n",
    ")"
   ]
  },
  {
   "cell_type": "markdown",
   "metadata": {},
   "source": [
    "## Links"
   ]
  },
  {
   "cell_type": "code",
   "execution_count": 13,
   "metadata": {},
   "outputs": [],
   "source": [
    "for load in load_names:\n",
    "    sim.add_link( 'Consumers', load, 'GasGrid', '{}/p_kW'.format( load ) )"
   ]
  },
  {
   "cell_type": "code",
   "execution_count": 14,
   "metadata": {},
   "outputs": [
    {
     "data": {
      "text/html": [
       "<div>\n",
       "<style scoped>\n",
       "    .dataframe tbody tr th:only-of-type {\n",
       "        vertical-align: middle;\n",
       "    }\n",
       "\n",
       "    .dataframe tbody tr th {\n",
       "        vertical-align: top;\n",
       "    }\n",
       "\n",
       "    .dataframe thead th {\n",
       "        text-align: right;\n",
       "    }\n",
       "</style>\n",
       "<table border=\"1\" class=\"dataframe\">\n",
       "  <thead>\n",
       "    <tr style=\"text-align: right;\">\n",
       "      <th></th>\n",
       "      <th>GetNode</th>\n",
       "      <th>GetAttr</th>\n",
       "      <th>SetNode</th>\n",
       "      <th>SetAttr</th>\n",
       "      <th>Unit</th>\n",
       "    </tr>\n",
       "  </thead>\n",
       "  <tbody>\n",
       "    <tr>\n",
       "      <th>0</th>\n",
       "      <td>Consumers</td>\n",
       "      <td>gas_node47</td>\n",
       "      <td>GasGrid</td>\n",
       "      <td>gas_node47/p_kW</td>\n",
       "      <td>kW</td>\n",
       "    </tr>\n",
       "    <tr>\n",
       "      <th>1</th>\n",
       "      <td>Consumers</td>\n",
       "      <td>gas_node48</td>\n",
       "      <td>GasGrid</td>\n",
       "      <td>gas_node48/p_kW</td>\n",
       "      <td>kW</td>\n",
       "    </tr>\n",
       "    <tr>\n",
       "      <th>2</th>\n",
       "      <td>Consumers</td>\n",
       "      <td>gas_node49</td>\n",
       "      <td>GasGrid</td>\n",
       "      <td>gas_node49/p_kW</td>\n",
       "      <td>kW</td>\n",
       "    </tr>\n",
       "    <tr>\n",
       "      <th>3</th>\n",
       "      <td>Consumers</td>\n",
       "      <td>gas_node50</td>\n",
       "      <td>GasGrid</td>\n",
       "      <td>gas_node50/p_kW</td>\n",
       "      <td>kW</td>\n",
       "    </tr>\n",
       "    <tr>\n",
       "      <th>4</th>\n",
       "      <td>Consumers</td>\n",
       "      <td>gas_node51</td>\n",
       "      <td>GasGrid</td>\n",
       "      <td>gas_node51/p_kW</td>\n",
       "      <td>kW</td>\n",
       "    </tr>\n",
       "    <tr>\n",
       "      <th>...</th>\n",
       "      <td>...</td>\n",
       "      <td>...</td>\n",
       "      <td>...</td>\n",
       "      <td>...</td>\n",
       "      <td>...</td>\n",
       "    </tr>\n",
       "    <tr>\n",
       "      <th>118</th>\n",
       "      <td>Consumers</td>\n",
       "      <td>gas_node166</td>\n",
       "      <td>GasGrid</td>\n",
       "      <td>gas_node166/p_kW</td>\n",
       "      <td>kW</td>\n",
       "    </tr>\n",
       "    <tr>\n",
       "      <th>119</th>\n",
       "      <td>Consumers</td>\n",
       "      <td>gas_node167</td>\n",
       "      <td>GasGrid</td>\n",
       "      <td>gas_node167/p_kW</td>\n",
       "      <td>kW</td>\n",
       "    </tr>\n",
       "    <tr>\n",
       "      <th>120</th>\n",
       "      <td>Consumers</td>\n",
       "      <td>gas_node168</td>\n",
       "      <td>GasGrid</td>\n",
       "      <td>gas_node168/p_kW</td>\n",
       "      <td>kW</td>\n",
       "    </tr>\n",
       "    <tr>\n",
       "      <th>121</th>\n",
       "      <td>Consumers</td>\n",
       "      <td>gas_node274</td>\n",
       "      <td>GasGrid</td>\n",
       "      <td>gas_node274/p_kW</td>\n",
       "      <td>kW</td>\n",
       "    </tr>\n",
       "    <tr>\n",
       "      <th>122</th>\n",
       "      <td>Consumers</td>\n",
       "      <td>gas_node282</td>\n",
       "      <td>GasGrid</td>\n",
       "      <td>gas_node282/p_kW</td>\n",
       "      <td>kW</td>\n",
       "    </tr>\n",
       "  </tbody>\n",
       "</table>\n",
       "<p>123 rows × 5 columns</p>\n",
       "</div>"
      ],
      "text/plain": [
       "       GetNode      GetAttr  SetNode           SetAttr Unit\n",
       "0    Consumers   gas_node47  GasGrid   gas_node47/p_kW   kW\n",
       "1    Consumers   gas_node48  GasGrid   gas_node48/p_kW   kW\n",
       "2    Consumers   gas_node49  GasGrid   gas_node49/p_kW   kW\n",
       "3    Consumers   gas_node50  GasGrid   gas_node50/p_kW   kW\n",
       "4    Consumers   gas_node51  GasGrid   gas_node51/p_kW   kW\n",
       "..         ...          ...      ...               ...  ...\n",
       "118  Consumers  gas_node166  GasGrid  gas_node166/p_kW   kW\n",
       "119  Consumers  gas_node167  GasGrid  gas_node167/p_kW   kW\n",
       "120  Consumers  gas_node168  GasGrid  gas_node168/p_kW   kW\n",
       "121  Consumers  gas_node274  GasGrid  gas_node274/p_kW   kW\n",
       "122  Consumers  gas_node282  GasGrid  gas_node282/p_kW   kW\n",
       "\n",
       "[123 rows x 5 columns]"
      ]
     },
     "execution_count": 14,
     "metadata": {},
     "output_type": "execute_result"
    }
   ],
   "source": [
    "sim.links"
   ]
  },
  {
   "cell_type": "markdown",
   "metadata": {},
   "source": [
    "## Simulation parameters"
   ]
  },
  {
   "cell_type": "code",
   "execution_count": 15,
   "metadata": {},
   "outputs": [],
   "source": [
    "sim.create_sequence( [ [ 'Consumers' ], [ 'GasGrid' ] ] )\n",
    "sim.set_time_unit( 'seconds' )\n",
    "sim.create_steps( 24 * [60*60] )"
   ]
  },
  {
   "cell_type": "markdown",
   "metadata": {},
   "source": [
    "## Save the simulation setup to the database"
   ]
  },
  {
   "cell_type": "code",
   "execution_count": 16,
   "metadata": {},
   "outputs": [],
   "source": [
    "#db_access.cleanup_simpkg_schema()"
   ]
  },
  {
   "cell_type": "code",
   "execution_count": 17,
   "metadata": {},
   "outputs": [],
   "source": [
    "from dblayer.zerobnl.writer import *\n",
    "\n",
    "writer = DBWriter( connect )\n",
    "writer.write_to_db( sim, 'GasGridSim', write_meta_models = True, write_envs = True )"
   ]
  },
  {
   "cell_type": "code",
   "execution_count": 18,
   "metadata": {},
   "outputs": [],
   "source": [
    "del writer"
   ]
  },
  {
   "cell_type": "code",
   "execution_count": null,
   "metadata": {},
   "outputs": [],
   "source": []
  }
 ],
 "metadata": {
  "kernelspec": {
   "display_name": "Python 3",
   "language": "python",
   "name": "python3"
  },
  "language_info": {
   "codemirror_mode": {
    "name": "ipython",
    "version": 3
   },
   "file_extension": ".py",
   "mimetype": "text/x-python",
   "name": "python",
   "nbconvert_exporter": "python",
   "pygments_lexer": "ipython3",
   "version": "3.6.8"
  }
 },
 "nbformat": 4,
 "nbformat_minor": 4
}
