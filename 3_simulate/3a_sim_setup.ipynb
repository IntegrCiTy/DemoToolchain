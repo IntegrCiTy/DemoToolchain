{
 "cells": [
  {
   "cell_type": "markdown",
   "metadata": {},
   "source": [
    "# Gas grid simulation setup\n",
    "\n",
    "This notebook shows how the **IntegrCiTy Data Access Layer** (DAL) can be used to create a simulation setup from data stored in the 3DCityDB and how to store this setup to the 3DCityDB. \n",
    "In this specific example, a **simulation model** is **generated** from a representation of a gas network and energy-related data. \n",
    "\n",
    "## Creating an empty co-simulation graph\n",
    "\n",
    "We will use [ZerOBNL](https://github.com/IntegrCiTy/zerobnl) as co-simulation platform to perform a technical assessment.\n",
    "Hence, we start with an empty co-simulation graph, which will be configured in the remainder of this notebook:"
   ]
  },
  {
   "cell_type": "code",
   "execution_count": 1,
   "metadata": {},
   "outputs": [],
   "source": [
    "from zerobnl import CoSim\n",
    "\n",
    "sim = CoSim()"
   ]
  },
  {
   "cell_type": "markdown",
   "metadata": {},
   "source": [
    "## Generating a simulation model from 3DCityDB data\n",
    "\n",
    "Creating simulation models from CityGML data is in general no trivial task.\n",
    "To this end, [package dblayer](https://github.com/IntegrCiTy/dblayer) provides dedicated helper classes (contained in *dblayer.sim*) that implement a translation from CityGML data to simulation models for specific simulators.\n",
    "\n",
    "To get started, connect to the 3DCityDB:"
   ]
  },
  {
   "cell_type": "code",
   "execution_count": 2,
   "metadata": {},
   "outputs": [],
   "source": [
    "from dblayer import *\n",
    "\n",
    "connect = PostgreSQLConnectionInfo(\n",
    "    user = 'postgres',\n",
    "    pwd = 'postgres',\n",
    "    host = 'localhost',\n",
    "    port = '5432',\n",
    "    dbname = 'citydb'\n",
    "    )"
   ]
  },
  {
   "cell_type": "markdown",
   "metadata": {},
   "source": [
    "Class *PandaNGasModelDBReader* can translate gas network models represented via the [Utility Network ADE](https://github.com/TatjanaKutzner/CityGML-UtilityNetwork-ADE) to [PandaNGas](https://github.com/IntegrCiTy/PandaNGas) models:"
   ]
  },
  {
   "cell_type": "code",
   "execution_count": 3,
   "metadata": {},
   "outputs": [],
   "source": [
    "from dblayer.sim.pandangas import *\n",
    "\n",
    "pg_reader = PandaNGasModelDBReader( connect )\n",
    "net = pg_reader.get_net( network_id = 3000 )"
   ]
  },
  {
   "cell_type": "markdown",
   "metadata": {},
   "source": [
    "After generetaing the model, we can take a quick peek at the model:"
   ]
  },
  {
   "cell_type": "code",
   "execution_count": 4,
   "metadata": {},
   "outputs": [
    {
     "name": "stdout",
     "output_type": "stream",
     "text": [
      "This pandangas network includes the following parameter tables:\n",
      "   - pipe (287 elements)\n",
      "   - feeder (2 elements)\n",
      "   - bus (277 elements)\n",
      "   - load (123 elements)\n"
     ]
    }
   ],
   "source": [
    "print(net)"
   ]
  },
  {
   "cell_type": "markdown",
   "metadata": {},
   "source": [
    "For futher processing below, let's extract a dict all the names of the network's loads:"
   ]
  },
  {
   "cell_type": "code",
   "execution_count": 5,
   "metadata": {},
   "outputs": [],
   "source": [
    "load_names = [ load[ 'name' ] for index, load in net.load.iterrows() ]"
   ]
  },
  {
   "cell_type": "markdown",
   "metadata": {},
   "source": [
    "## Simulation setup for gas grid\n",
    "\n",
    "Let's add a simulator for the gas network to the co-simulation setup!\n",
    "\n",
    "[ZerOBNL](https://github.com/IntegrCiTy/zerobnl) uses the concepts of *meta models*, *environments* and *nodes* to define co-simulation models (see the [documentation](https://integrcity.github.io/zerobnl/docu.html) for details).\n",
    "The following lines implement this concept for the gas network model:\n",
    "* The *meta model* is an abstraction of the actual model, defining its input and output attributes.\n",
    "* The *environment* provides the actual implementation of the abstract meta model.\n",
    "\n",
    "The definition of the environment includes:\n",
    "* A *wrapper* that serves as glue code between ZerOBNL and the simulation tool.\n",
    "  In this example, the wrapper will generate the simulation model from the 3DCityDB at initialization (see file [wrappers/wrapper_gasgrid.py](./wrappers/wrapper_gasgrid.py)).\n",
    "* A *Docker image* definition file that will be used to generate a runnable conatainer for executing the simulator (see file [dockerfiles/Dockerfile_gasgrid](./dockerfiles/Dockerfile_gasgrid))."
   ]
  },
  {
   "cell_type": "code",
   "execution_count": 6,
   "metadata": {},
   "outputs": [],
   "source": [
    "import os.path\n",
    "\n",
    "# Generate list of input names (\"set attribute\") from load names.\n",
    "set_attrs = [ ( n + '/p_kW', 'kW' ) for n in load_names ]\n",
    "\n",
    "# Define meta model.\n",
    "sim.create_meta_model(\n",
    "    meta_model = 'GasGridMeta',\n",
    "    list_of_attrs_to_set = set_attrs,\n",
    "    list_of_attrs_to_get = [] # No outputs, just inputs.\n",
    ")\n",
    "\n",
    "# Define environment.\n",
    "sim.create_environment(\n",
    "    env = 'GasGridEnv', \n",
    "    # The wrapper will generate the simulation model from the 3DCityDB at initialization:\n",
    "    wrapper = os.path.join( 'wrappers', 'wrapper_gasgrid.py' ),\n",
    "    # The Dockerfile defines the runtime environment of the simulator:\n",
    "    dockerfile = os.path.join( 'dockerfiles', 'Dockerfile_gasgrid' )\n",
    ")\n",
    "\n",
    "sim.add_node(\n",
    "    node = 'GasGrid', \n",
    "    meta = 'GasGridMeta',\n",
    "    env = 'GasGridEnv',\n",
    "    # These initial values will be used to connect to the 3DCityDB and load the correct network model:\n",
    "    init_values = {   \n",
    "        'dbuser': 'postgres',\n",
    "        'dbpwd': 'postgres',\n",
    "        'dbhost': 'citydb-container',\n",
    "        'dbname': 'citydb',\n",
    "        'dbport': 5432,\n",
    "        'network_id': 3000\n",
    "    }\n",
    ")"
   ]
  },
  {
   "cell_type": "markdown",
   "metadata": {},
   "source": [
    "## Simulation setup for consumers\n",
    "\n",
    "Next, add a component to the co-simulation setup that represents the customers. \n",
    "In this simple example, it will only read all energy consumption data from a file.\n",
    "\n",
    "The 3DCityDB contains all the data needed to link the sinks of the gas network with consumption data from building.\n",
    "In this specific case, it goes as follows:\n",
    "1. Energy consumption data (stored as time series) is linked to objects of type *FinalEnergy*.\n",
    "2. Object of type *FinalEnergy* are associated to objects of type *EnergyConversionSystem* (in this case, they are boilers).\n",
    "3. Objects of type *EnergyConversionSystem* are linked to buildings.\n",
    "4. Buildings are linked to objects of type *TerminalElement* (belonging to networks).\n",
    "5. Objects of type *TerminalElement* are linked to objects of type *NetworkFeature* of the same network (which correspond to network nodes of the simulation models).\n",
    "\n",
    "Once you know how the data is linked in the 3DCityDB, you can use [package dblayer](https://github.com/IntegrCiTy/dblayer) to retrieve this data.\n",
    "A lot of relevant information from separate tables is already joind in *views*, and can be retrieved directly.\n",
    "But beyond that, the user has to define queries that connect entries via relations of their attributes.\n",
    "The following lines show how a complex database query can be defined, joining conditions over several database tables and views.\n",
    "\n",
    "\n",
    "First, we retrieve the definition of the data types that we want to work with:"
   ]
  },
  {
   "cell_type": "code",
   "execution_count": 7,
   "metadata": {},
   "outputs": [],
   "source": [
    "db_access = DBAccess()\n",
    "db_access.connect_to_citydb(connect)\n",
    "\n",
    "# Get definition of type \"FinalEnergy\" from view \"nrg8_final_energy_ts\". \n",
    "# This view already provides the link of objects to time series data.\n",
    "FinalEnergy = db_access.map_citydb_object_class( \n",
    "    'FinalEnergy', table_name='nrg8_final_energy_ts', schema='citydb_view' \n",
    ")\n",
    "\n",
    "# Get definition of linking between objects of type \"FinalEnergy\" and \n",
    "# \"EnergyConversionSystem\" from table \"nrg8_conv_sys_to_final_nrg\".\n",
    "ConvSystemToFinalEnergy = db_access.map_citydb_object_class( \n",
    "    'ConvSystemToFinalEnergy', \n",
    "    table_name='nrg8_conv_sys_to_final_nrg', schema='citydb', user_defined = True\n",
    ")\n",
    "\n",
    "# Get definition of type \"EnergyConversionSystem\" from table \"nrg8_conv_system\".\n",
    "# Call them \"Boiler\" (because that is what they are in this case).\n",
    "Boiler = db_access.map_citydb_object_class( \n",
    "    'Boiler', \n",
    "    table_name='nrg8_conv_system', schema='citydb' \n",
    ")\n",
    "\n",
    "# Get definition of type \"TerminalElement\" from view \"utn9_ntw_feat_term_elem\".\n",
    "# This view already provides the link of objects to associated network features.\n",
    "TerminalElement = db_access.map_citydb_object_class( \n",
    "    'TerminalElement', \n",
    "    table_name='utn9_ntw_feat_term_elem', schema='citydb_view' \n",
    ")\n",
    "\n",
    "# Get definition of linking between objects of type \"NetworkFeature\" to objects \n",
    "# of type \"Network\" from table \"utn9_network_to_network_feature\". \n",
    "# This linking has no official name, so we call it \"NetworkToFeature\".\n",
    "NetworkToFeature = db_access.map_citydb_object_class( \n",
    "    'NetworkToFeature',\n",
    "    table_name='utn9_network_to_network_feature', schema='citydb', user_defined = True\n",
    ")"
   ]
  },
  {
   "cell_type": "markdown",
   "metadata": {},
   "source": [
    "Now make the actual query to retrieve the data:"
   ]
  },
  {
   "cell_type": "code",
   "execution_count": 8,
   "metadata": {},
   "outputs": [],
   "source": [
    "final_energy_db_data = db_access.join_citydb_objects(\n",
    "    # Only retrieve data of related to \"FinalEnergy\" and \"TerminalElement\".\n",
    "    [ 'FinalEnergy', 'TerminalElement' ],\n",
    "    # Define the logical relations between all these types and their attributes.\n",
    "    conditions = [\n",
    "        FinalEnergy.id == ConvSystemToFinalEnergy.final_nrg_id,\n",
    "        ConvSystemToFinalEnergy.conv_system_id == Boiler.id,\n",
    "        Boiler.inst_in_ctyobj_id == TerminalElement.conn_cityobject_id,\n",
    "        TerminalElement.id == NetworkToFeature.network_feature_id,\n",
    "        NetworkToFeature.network_id == 3000        \n",
    "        ]\n",
    "    )"
   ]
  },
  {
   "cell_type": "markdown",
   "metadata": {},
   "source": [
    "Now extract the data that we actually want: the **mapping** of **network node names** to **time series**."
   ]
  },
  {
   "cell_type": "code",
   "execution_count": 9,
   "metadata": {},
   "outputs": [],
   "source": [
    "# Each results contains an instance of \"FinalEnergy\" (index 0) and \"TerminalElement\" (index 1).\n",
    "# From that, the following line extracts a dict of network node names and time series.\n",
    "gas_demand = { data[1].name: data[0].ts_values_array for data in final_energy_db_data }\n",
    "\n",
    "# Also extract start date, interval length and unit as well as number of entries for all time series.\n",
    "# Get only for the first, same for all others (in this example).\n",
    "time_series_start_date = final_energy_db_data[0][0].ts_temporal_extent_begin\n",
    "time_series_interval = final_energy_db_data[0][0].ts_time_interval\n",
    "time_series_interval_unit = final_energy_db_data[0][0].ts_time_interval_unit\n",
    "time_series_length = final_energy_db_data[0][0].ts_array_length"
   ]
  },
  {
   "cell_type": "markdown",
   "metadata": {},
   "source": [
    "Convert the data to a [pandas DataFrame](https://pandas.pydata.org/pandas-docs/stable/user_guide/dsintro.html#dataframe):"
   ]
  },
  {
   "cell_type": "code",
   "execution_count": 10,
   "metadata": {},
   "outputs": [],
   "source": [
    "import pandas as pd\n",
    "\n",
    "df = pd.DataFrame.from_dict(gas_demand)\n",
    "\n",
    "date = pd.date_range(\n",
    "    start = time_series_start_date, \n",
    "    periods = time_series_length, \n",
    "    freq = '{length}{unit}'.format( length=time_series_interval, unit=time_series_interval_unit )\n",
    ")\n",
    "\n",
    "df['date'] = date.values\n",
    "df.set_index('date', inplace=True)"
   ]
  },
  {
   "cell_type": "markdown",
   "metadata": {},
   "source": [
    "Store the DataFrame as [pickle file](https://docs.python.org/3/library/pickle.html) (to be used by the simulator)."
   ]
  },
  {
   "cell_type": "code",
   "execution_count": 11,
   "metadata": {},
   "outputs": [],
   "source": [
    "df.to_pickle( './gas_demand.pkl' )"
   ]
  },
  {
   "cell_type": "markdown",
   "metadata": {},
   "source": [
    "Let's not hardcode the start date of the time series as a parameter for the simulation model, but rather look-up the value from the database during the initialization of the simulation.\n",
    "This can be done by passing an intance of class *AssociateCityDBObjectAttribute* as parameter to ZerOBNL's list of initial paramters, which will be resolved at runtime:"
   ]
  },
  {
   "cell_type": "code",
   "execution_count": 12,
   "metadata": {},
   "outputs": [],
   "source": [
    "from dblayer.zerobnl.associate import *\n",
    "\n",
    "# Since all time series in this example have the same start time, we just pass a reference to first in the list.\n",
    "time_series = final_energy_db_data[0][0]\n",
    "\n",
    "# Make association to the object's attribute \"ts_temporal_extent_begin\".\n",
    "start_date = AssociateCityDBObjectAttribute( time_series, 'ts_temporal_extent_begin' )"
   ]
  },
  {
   "cell_type": "markdown",
   "metadata": {},
   "source": [
    "Like above for the gas network simulation model, the *meta model*, *environment* and *node* needs to be defined.\n",
    "Similar to above, this includes again the wrapper (see file [wrappers/wrapper_consumers.py](./wrappers/wrapper_consumers.py)).and the Dockerfile (see file [dockerfiles/Dockerfile_consumers](./dockerfiles/Dockerfile_consumers))."
   ]
  },
  {
   "cell_type": "code",
   "execution_count": 13,
   "metadata": {},
   "outputs": [],
   "source": [
    "# Generate list of output names (\"get attribute\") from load names.\n",
    "get_attrs = [ ( n, 'kW' ) for n in load_names ]\n",
    "\n",
    "# Define meta model.\n",
    "sim.create_meta_model(\n",
    "    meta_model = 'ConsumersMeta',\n",
    "    list_of_attrs_to_set = [], # No inputs, just outputs.\n",
    "    list_of_attrs_to_get = get_attrs\n",
    ")\n",
    "\n",
    "# Define environment.\n",
    "sim.create_environment(\n",
    "    env = 'ConsumersEnv', \n",
    "    wrapper = os.path.join( 'wrappers', 'wrapper_consumers.py' ),\n",
    "    dockerfile = os.path.join( 'dockerfiles', 'Dockerfile_consumers' )\n",
    ")\n",
    "\n",
    "# Define node.\n",
    "sim.add_node(\n",
    "    node = 'Consumers', \n",
    "    meta = 'ConsumersMeta',\n",
    "    env = 'ConsumersEnv',\n",
    "    init_values = { \n",
    "        # Pass the association object from above, to look-up the value \n",
    "        # from the database during the initialization of the simulation.\n",
    "        'start_date': start_date \n",
    "    },\n",
    "    # Add the pickle file from above as additional resource.\n",
    "    files = [ './gas_demand.pkl' ]\n",
    ")"
   ]
  },
  {
   "cell_type": "markdown",
   "metadata": {},
   "source": [
    "## Links\n",
    "\n",
    "Add the links between the individual co-simulation components.\n",
    "In this simple case, this is just the connection of all outputs of the consumers model (node *Consumers*) to all inputs of the gas network model (node *GasGrid*):"
   ]
  },
  {
   "cell_type": "code",
   "execution_count": 14,
   "metadata": {},
   "outputs": [],
   "source": [
    "for load in load_names:\n",
    "    sim.add_link( 'Consumers', load, 'GasGrid', '{}/p_kW'.format( load ) )"
   ]
  },
  {
   "cell_type": "markdown",
   "metadata": {},
   "source": [
    "We can view the generated links to check that they are correct:"
   ]
  },
  {
   "cell_type": "code",
   "execution_count": 15,
   "metadata": {},
   "outputs": [
    {
     "data": {
      "text/html": [
       "<div>\n",
       "<style scoped>\n",
       "    .dataframe tbody tr th:only-of-type {\n",
       "        vertical-align: middle;\n",
       "    }\n",
       "\n",
       "    .dataframe tbody tr th {\n",
       "        vertical-align: top;\n",
       "    }\n",
       "\n",
       "    .dataframe thead th {\n",
       "        text-align: right;\n",
       "    }\n",
       "</style>\n",
       "<table border=\"1\" class=\"dataframe\">\n",
       "  <thead>\n",
       "    <tr style=\"text-align: right;\">\n",
       "      <th></th>\n",
       "      <th>GetNode</th>\n",
       "      <th>GetAttr</th>\n",
       "      <th>SetNode</th>\n",
       "      <th>SetAttr</th>\n",
       "      <th>Unit</th>\n",
       "    </tr>\n",
       "  </thead>\n",
       "  <tbody>\n",
       "    <tr>\n",
       "      <th>0</th>\n",
       "      <td>Consumers</td>\n",
       "      <td>gas_node282</td>\n",
       "      <td>GasGrid</td>\n",
       "      <td>gas_node282/p_kW</td>\n",
       "      <td>kW</td>\n",
       "    </tr>\n",
       "    <tr>\n",
       "      <th>1</th>\n",
       "      <td>Consumers</td>\n",
       "      <td>gas_node274</td>\n",
       "      <td>GasGrid</td>\n",
       "      <td>gas_node274/p_kW</td>\n",
       "      <td>kW</td>\n",
       "    </tr>\n",
       "    <tr>\n",
       "      <th>2</th>\n",
       "      <td>Consumers</td>\n",
       "      <td>gas_node168</td>\n",
       "      <td>GasGrid</td>\n",
       "      <td>gas_node168/p_kW</td>\n",
       "      <td>kW</td>\n",
       "    </tr>\n",
       "    <tr>\n",
       "      <th>3</th>\n",
       "      <td>Consumers</td>\n",
       "      <td>gas_node167</td>\n",
       "      <td>GasGrid</td>\n",
       "      <td>gas_node167/p_kW</td>\n",
       "      <td>kW</td>\n",
       "    </tr>\n",
       "    <tr>\n",
       "      <th>4</th>\n",
       "      <td>Consumers</td>\n",
       "      <td>gas_node166</td>\n",
       "      <td>GasGrid</td>\n",
       "      <td>gas_node166/p_kW</td>\n",
       "      <td>kW</td>\n",
       "    </tr>\n",
       "    <tr>\n",
       "      <th>...</th>\n",
       "      <td>...</td>\n",
       "      <td>...</td>\n",
       "      <td>...</td>\n",
       "      <td>...</td>\n",
       "      <td>...</td>\n",
       "    </tr>\n",
       "    <tr>\n",
       "      <th>118</th>\n",
       "      <td>Consumers</td>\n",
       "      <td>gas_node51</td>\n",
       "      <td>GasGrid</td>\n",
       "      <td>gas_node51/p_kW</td>\n",
       "      <td>kW</td>\n",
       "    </tr>\n",
       "    <tr>\n",
       "      <th>119</th>\n",
       "      <td>Consumers</td>\n",
       "      <td>gas_node50</td>\n",
       "      <td>GasGrid</td>\n",
       "      <td>gas_node50/p_kW</td>\n",
       "      <td>kW</td>\n",
       "    </tr>\n",
       "    <tr>\n",
       "      <th>120</th>\n",
       "      <td>Consumers</td>\n",
       "      <td>gas_node49</td>\n",
       "      <td>GasGrid</td>\n",
       "      <td>gas_node49/p_kW</td>\n",
       "      <td>kW</td>\n",
       "    </tr>\n",
       "    <tr>\n",
       "      <th>121</th>\n",
       "      <td>Consumers</td>\n",
       "      <td>gas_node48</td>\n",
       "      <td>GasGrid</td>\n",
       "      <td>gas_node48/p_kW</td>\n",
       "      <td>kW</td>\n",
       "    </tr>\n",
       "    <tr>\n",
       "      <th>122</th>\n",
       "      <td>Consumers</td>\n",
       "      <td>gas_node47</td>\n",
       "      <td>GasGrid</td>\n",
       "      <td>gas_node47/p_kW</td>\n",
       "      <td>kW</td>\n",
       "    </tr>\n",
       "  </tbody>\n",
       "</table>\n",
       "<p>123 rows × 5 columns</p>\n",
       "</div>"
      ],
      "text/plain": [
       "       GetNode      GetAttr  SetNode           SetAttr Unit\n",
       "0    Consumers  gas_node282  GasGrid  gas_node282/p_kW   kW\n",
       "1    Consumers  gas_node274  GasGrid  gas_node274/p_kW   kW\n",
       "2    Consumers  gas_node168  GasGrid  gas_node168/p_kW   kW\n",
       "3    Consumers  gas_node167  GasGrid  gas_node167/p_kW   kW\n",
       "4    Consumers  gas_node166  GasGrid  gas_node166/p_kW   kW\n",
       "..         ...          ...      ...               ...  ...\n",
       "118  Consumers   gas_node51  GasGrid   gas_node51/p_kW   kW\n",
       "119  Consumers   gas_node50  GasGrid   gas_node50/p_kW   kW\n",
       "120  Consumers   gas_node49  GasGrid   gas_node49/p_kW   kW\n",
       "121  Consumers   gas_node48  GasGrid   gas_node48/p_kW   kW\n",
       "122  Consumers   gas_node47  GasGrid   gas_node47/p_kW   kW\n",
       "\n",
       "[123 rows x 5 columns]"
      ]
     },
     "execution_count": 15,
     "metadata": {},
     "output_type": "execute_result"
    }
   ],
   "source": [
    "sim.links"
   ]
  },
  {
   "cell_type": "markdown",
   "metadata": {},
   "source": [
    "## Simulation parameters\n",
    "\n",
    "Finally, add the following parameters to the setup:\n",
    "* **Sequence**: For each step, simulate node *Consumers* first, then node *GasGrid*.\n",
    "* **Steps**: List of synchronization steps (time differences between two simulation steps).\n",
    "* **Time Unit**: Time unit of synchronization steps."
   ]
  },
  {
   "cell_type": "code",
   "execution_count": 16,
   "metadata": {},
   "outputs": [],
   "source": [
    "sim.create_sequence( [ [ 'Consumers' ], [ 'GasGrid' ] ] )\n",
    "sim.create_steps( 12 * [60*60] )\n",
    "sim.set_time_unit( 'seconds' )"
   ]
  },
  {
   "cell_type": "markdown",
   "metadata": {},
   "source": [
    "## Save the simulation setup to the database\n",
    "\n",
    "For saving ZerOBNL simulation setups to the database, [package dblayer](https://github.com/IntegrCiTy/dblayer) provides a dedicated helper class (*dblayer.zerobnl*):"
   ]
  },
  {
   "cell_type": "code",
   "execution_count": 17,
   "metadata": {},
   "outputs": [],
   "source": [
    "from dblayer.zerobnl.writer import *\n",
    "\n",
    "writer = DBWriter( connect )\n",
    "writer.write_to_db( sim, 'GasGridSim', write_meta_models = True, write_envs = True )"
   ]
  },
  {
   "cell_type": "markdown",
   "metadata": {},
   "source": [
    "Finally, delete the instance of class DBAccess to close the session."
   ]
  },
  {
   "cell_type": "code",
   "execution_count": 18,
   "metadata": {},
   "outputs": [],
   "source": [
    "del writer"
   ]
  },
  {
   "cell_type": "markdown",
   "metadata": {},
   "source": [
    "Next up is notebook [3b_sim_run.ipynb](./3b_sim_run.ipynb), which demonstrates how to run this simulation setup for analyzing the gas network and writing the result back to the database."
   ]
  }
 ],
 "metadata": {
  "kernelspec": {
   "display_name": "Python 3",
   "language": "python",
   "name": "python3"
  },
  "language_info": {
   "codemirror_mode": {
    "name": "ipython",
    "version": 3
   },
   "file_extension": ".py",
   "mimetype": "text/x-python",
   "name": "python",
   "nbconvert_exporter": "python",
   "pygments_lexer": "ipython3",
   "version": "3.6.8"
  }
 },
 "nbformat": 4,
 "nbformat_minor": 4
}
