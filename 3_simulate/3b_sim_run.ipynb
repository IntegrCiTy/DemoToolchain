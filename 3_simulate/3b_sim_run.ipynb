{
 "cells": [
  {
   "cell_type": "markdown",
   "metadata": {},
   "source": [
    "# Run a gas network simulation\n",
    "\n",
    "This notebook shows how the **IntegrCiTy Data Access Layer** (DAL) can be used to execute a simulation setup stored in the 3DCityDB and how to store the results back to the 3DCityDB. \n",
    "\n",
    "## Define connection parameters for database\n",
    "\n",
    "First, we define the connection parameters for the 3DCityDB:"
   ]
  },
  {
   "cell_type": "code",
   "execution_count": 1,
   "metadata": {},
   "outputs": [],
   "source": [
    "from dblayer import *\n",
    "\n",
    "connect = PostgreSQLConnectionInfo(\n",
    "    user = 'postgres',\n",
    "    pwd = 'postgres',\n",
    "    host = 'localhost',\n",
    "    port = '5432',\n",
    "    dbname = 'citydb'\n",
    ")"
   ]
  },
  {
   "cell_type": "markdown",
   "metadata": {},
   "source": [
    "## Retrieve co-simulation graph from the database\n",
    "\n",
    "For retrieving ZerOBNL simulation setups from the database, [package dblayer](https://github.com/IntegrCiTy/dblayer) provides a dedicated helper class (*dblayer.zerobnl*):"
   ]
  },
  {
   "cell_type": "code",
   "execution_count": 2,
   "metadata": {},
   "outputs": [],
   "source": [
    "from dblayer.zerobnl.reader import *\n",
    "\n",
    "reader = DBReader( connect )\n",
    "sim = reader.read_from_db( 'GasGridSim' )"
   ]
  },
  {
   "cell_type": "markdown",
   "metadata": {},
   "source": [
    "To check that the co-simulation setup has been loaded correctly, we can for instance take a look at the retrived nodes:"
   ]
  },
  {
   "cell_type": "code",
   "execution_count": 3,
   "metadata": {},
   "outputs": [
    {
     "data": {
      "text/html": [
       "<div>\n",
       "<style scoped>\n",
       "    .dataframe tbody tr th:only-of-type {\n",
       "        vertical-align: middle;\n",
       "    }\n",
       "\n",
       "    .dataframe tbody tr th {\n",
       "        vertical-align: top;\n",
       "    }\n",
       "\n",
       "    .dataframe thead th {\n",
       "        text-align: right;\n",
       "    }\n",
       "</style>\n",
       "<table border=\"1\" class=\"dataframe\">\n",
       "  <thead>\n",
       "    <tr style=\"text-align: right;\">\n",
       "      <th></th>\n",
       "      <th>ToSet</th>\n",
       "      <th>ToGet</th>\n",
       "      <th>InitVal</th>\n",
       "      <th>Parameters</th>\n",
       "      <th>Wrapper</th>\n",
       "      <th>Dockerfile</th>\n",
       "      <th>Files</th>\n",
       "      <th>Local</th>\n",
       "      <th>Meta</th>\n",
       "      <th>Env</th>\n",
       "    </tr>\n",
       "  </thead>\n",
       "  <tbody>\n",
       "    <tr>\n",
       "      <th>GasGrid</th>\n",
       "      <td>[(gas_node47/p_kW, kW), (gas_node48/p_kW, kW),...</td>\n",
       "      <td>[]</td>\n",
       "      <td>{'network_id': 3000, 'dbport': 5432, 'dbname':...</td>\n",
       "      <td>{}</td>\n",
       "      <td>/c/Development/integrcity/DemoToolchain/3_simu...</td>\n",
       "      <td>/c/Development/integrcity/DemoToolchain/3_simu...</td>\n",
       "      <td>[]</td>\n",
       "      <td>False</td>\n",
       "      <td>GasGridMeta</td>\n",
       "      <td>GasGridEnv</td>\n",
       "    </tr>\n",
       "    <tr>\n",
       "      <th>Consumers</th>\n",
       "      <td>[]</td>\n",
       "      <td>[(gas_node47, kW), (gas_node48, kW), (gas_node...</td>\n",
       "      <td>{'start_date': '2020-01-01 00:00:00+00:00'}</td>\n",
       "      <td>{}</td>\n",
       "      <td>/c/Development/integrcity/DemoToolchain/3_simu...</td>\n",
       "      <td>/c/Development/integrcity/DemoToolchain/3_simu...</td>\n",
       "      <td>[/c/Development/integrcity/DemoToolchain/3_sim...</td>\n",
       "      <td>False</td>\n",
       "      <td>ConsumersMeta</td>\n",
       "      <td>ConsumersEnv</td>\n",
       "    </tr>\n",
       "  </tbody>\n",
       "</table>\n",
       "</div>"
      ],
      "text/plain": [
       "                                                       ToSet  \\\n",
       "GasGrid    [(gas_node47/p_kW, kW), (gas_node48/p_kW, kW),...   \n",
       "Consumers                                                 []   \n",
       "\n",
       "                                                       ToGet  \\\n",
       "GasGrid                                                   []   \n",
       "Consumers  [(gas_node47, kW), (gas_node48, kW), (gas_node...   \n",
       "\n",
       "                                                     InitVal Parameters  \\\n",
       "GasGrid    {'network_id': 3000, 'dbport': 5432, 'dbname':...         {}   \n",
       "Consumers        {'start_date': '2020-01-01 00:00:00+00:00'}         {}   \n",
       "\n",
       "                                                     Wrapper  \\\n",
       "GasGrid    /c/Development/integrcity/DemoToolchain/3_simu...   \n",
       "Consumers  /c/Development/integrcity/DemoToolchain/3_simu...   \n",
       "\n",
       "                                                  Dockerfile  \\\n",
       "GasGrid    /c/Development/integrcity/DemoToolchain/3_simu...   \n",
       "Consumers  /c/Development/integrcity/DemoToolchain/3_simu...   \n",
       "\n",
       "                                                       Files  Local  \\\n",
       "GasGrid                                                   []  False   \n",
       "Consumers  [/c/Development/integrcity/DemoToolchain/3_sim...  False   \n",
       "\n",
       "                    Meta           Env  \n",
       "GasGrid      GasGridMeta    GasGridEnv  \n",
       "Consumers  ConsumersMeta  ConsumersEnv  "
      ]
     },
     "execution_count": 3,
     "metadata": {},
     "output_type": "execute_result"
    }
   ],
   "source": [
    "sim.nodes"
   ]
  },
  {
   "cell_type": "markdown",
   "metadata": {},
   "source": [
    "## Make the 3DCityDB available in the simulation\n",
    "\n",
    "[ZerOBNL](https://github.com/IntegrCiTy/zerobnl) runs all parts of the co-simulation in separate Docker containers.\n",
    "Because both nodes will try to connect to the 3DCityDB during initialization, we need to add the Docker container running the 3DCityDB to the simulation setup:"
   ]
  },
  {
   "cell_type": "code",
   "execution_count": 4,
   "metadata": {},
   "outputs": [],
   "source": [
    "sim.add_container_to_simulation( 'citydb-container' )"
   ]
  },
  {
   "cell_type": "markdown",
   "metadata": {},
   "source": [
    "*Note: This notebook assumes that you run the 3DCityDB in a Docker container (see the [README](../README.md) file).\n",
    "In case you run the 3DCityDB in another way, you will have to make sure that it is available via the* host *and* port *provided in the simulation setup from* inside *the simulation containers. There are several ways to do that, one is to add a proxy container that routes the connection accordingly.*\n",
    "\n",
    "## Running the simulation\n",
    "\n",
    "Simple execute the *run* method.\n",
    "\n",
    "**NOTE**: This may take a few miniutes, because the calculation of the network involves a lot of number crunching ..."
   ]
  },
  {
   "cell_type": "code",
   "execution_count": 5,
   "metadata": {},
   "outputs": [
    {
     "name": "stderr",
     "output_type": "stream",
     "text": [
      "INFO :: Simulation finished in 31 min and 1 sec\n"
     ]
    }
   ],
   "source": [
    "sim.run()"
   ]
  },
  {
   "cell_type": "markdown",
   "metadata": {},
   "source": [
    "## Retrieve the simulation results\n",
    "\n",
    "After the simulation has finished, connect to ZerOBNL and retrieve the results:"
   ]
  },
  {
   "cell_type": "code",
   "execution_count": 6,
   "metadata": {},
   "outputs": [
    {
     "data": {
      "text/html": [
       "<div>\n",
       "<style scoped>\n",
       "    .dataframe tbody tr th:only-of-type {\n",
       "        vertical-align: middle;\n",
       "    }\n",
       "\n",
       "    .dataframe tbody tr th {\n",
       "        vertical-align: top;\n",
       "    }\n",
       "\n",
       "    .dataframe thead th {\n",
       "        text-align: right;\n",
       "    }\n",
       "</style>\n",
       "<table border=\"1\" class=\"dataframe\">\n",
       "  <thead>\n",
       "    <tr style=\"text-align: right;\">\n",
       "      <th></th>\n",
       "      <th>IN/OUT</th>\n",
       "      <th>Node</th>\n",
       "      <th>Attribute</th>\n",
       "    </tr>\n",
       "  </thead>\n",
       "  <tbody>\n",
       "    <tr>\n",
       "      <th>0</th>\n",
       "      <td>X</td>\n",
       "      <td>GasGrid</td>\n",
       "      <td>gas_pipe17-262/m_dot</td>\n",
       "    </tr>\n",
       "    <tr>\n",
       "      <th>1</th>\n",
       "      <td>X</td>\n",
       "      <td>GasGrid</td>\n",
       "      <td>gas_node157/P</td>\n",
       "    </tr>\n",
       "    <tr>\n",
       "      <th>2</th>\n",
       "      <td>X</td>\n",
       "      <td>GasGrid</td>\n",
       "      <td>gas_node99/P</td>\n",
       "    </tr>\n",
       "    <tr>\n",
       "      <th>3</th>\n",
       "      <td>OUT</td>\n",
       "      <td>Consumers</td>\n",
       "      <td>gas_node84</td>\n",
       "    </tr>\n",
       "    <tr>\n",
       "      <th>4</th>\n",
       "      <td>X</td>\n",
       "      <td>GasGrid</td>\n",
       "      <td>gas_node227/P</td>\n",
       "    </tr>\n",
       "    <tr>\n",
       "      <th>...</th>\n",
       "      <td>...</td>\n",
       "      <td>...</td>\n",
       "      <td>...</td>\n",
       "    </tr>\n",
       "    <tr>\n",
       "      <th>682</th>\n",
       "      <td>X</td>\n",
       "      <td>GasGrid</td>\n",
       "      <td>gas_pipe117-174/m_dot</td>\n",
       "    </tr>\n",
       "    <tr>\n",
       "      <th>683</th>\n",
       "      <td>X</td>\n",
       "      <td>GasGrid</td>\n",
       "      <td>gas_node260/P</td>\n",
       "    </tr>\n",
       "    <tr>\n",
       "      <th>684</th>\n",
       "      <td>X</td>\n",
       "      <td>GasGrid</td>\n",
       "      <td>gas_pipe217-219/m_dot</td>\n",
       "    </tr>\n",
       "    <tr>\n",
       "      <th>685</th>\n",
       "      <td>X</td>\n",
       "      <td>GasGrid</td>\n",
       "      <td>gas_node255/P</td>\n",
       "    </tr>\n",
       "    <tr>\n",
       "      <th>686</th>\n",
       "      <td>OUT</td>\n",
       "      <td>Consumers</td>\n",
       "      <td>gas_node132</td>\n",
       "    </tr>\n",
       "  </tbody>\n",
       "</table>\n",
       "<p>687 rows × 3 columns</p>\n",
       "</div>"
      ],
      "text/plain": [
       "    IN/OUT       Node              Attribute\n",
       "0        X    GasGrid   gas_pipe17-262/m_dot\n",
       "1        X    GasGrid          gas_node157/P\n",
       "2        X    GasGrid           gas_node99/P\n",
       "3      OUT  Consumers             gas_node84\n",
       "4        X    GasGrid          gas_node227/P\n",
       "..     ...        ...                    ...\n",
       "682      X    GasGrid  gas_pipe117-174/m_dot\n",
       "683      X    GasGrid          gas_node260/P\n",
       "684      X    GasGrid  gas_pipe217-219/m_dot\n",
       "685      X    GasGrid          gas_node255/P\n",
       "686    OUT  Consumers            gas_node132\n",
       "\n",
       "[687 rows x 3 columns]"
      ]
     },
     "execution_count": 6,
     "metadata": {},
     "output_type": "execute_result"
    }
   ],
   "source": [
    "sim.connect_to_results_db()\n",
    "sim.get_list_of_available_results()"
   ]
  },
  {
   "cell_type": "markdown",
   "metadata": {},
   "source": [
    "Retrieve all the results that were produced by the gas network simulator (node *GasGrid*):"
   ]
  },
  {
   "cell_type": "code",
   "execution_count": 7,
   "metadata": {},
   "outputs": [
    {
     "name": "stdout",
     "output_type": "stream",
     "text": [
      "Found 564 results.\n"
     ]
    }
   ],
   "source": [
    "import logging\n",
    "logging.getLogger(\"ZEROBNL\").setLevel(logging.WARNING)\n",
    "\n",
    "results = sim.get_results_by_pattern(\"X||GasGrid||*\")\n",
    "print( 'Found {} results.'.format( len( results ) ) )"
   ]
  },
  {
   "cell_type": "markdown",
   "metadata": {},
   "source": [
    "# Write results to database\n",
    "\n",
    "Next, we write the simulation results back to the 3DCityDB for futher analysis (see next notebook).\n",
    "\n",
    "## Extract results for individual pipes\n",
    "\n",
    "To do so, we simple iterate through the results and extract the ones we want to analyze further to a dict.\n",
    "In this case, we want to look at the mass flow rate in the pipes, which all contain the string *m_dot* in their name:"
   ]
  },
  {
   "cell_type": "code",
   "execution_count": 8,
   "metadata": {},
   "outputs": [],
   "source": [
    "pipes_m_dot = {}\n",
    "\n",
    "for name, ts in results.items():\n",
    "    if 'm_dot' in name:\n",
    "        sim_var_name = name.split('||')[2]\n",
    "        pipe_name = sim_var_name.split('/')[0]\n",
    "        pipes_m_dot[pipe_name] = list(ts.array)"
   ]
  },
  {
   "cell_type": "markdown",
   "metadata": {},
   "source": [
    "## Retrieve information about pipes stored in database\n",
    "\n",
    "The goal is to associate the simulation results to the network data already stored in the 3DCityDB.\n",
    "Hence, we connect to the 3DCityDB:"
   ]
  },
  {
   "cell_type": "code",
   "execution_count": 9,
   "metadata": {},
   "outputs": [],
   "source": [
    "db_access = DBAccess()\n",
    "db_access.connect_to_citydb(connect)"
   ]
  },
  {
   "cell_type": "markdown",
   "metadata": {},
   "source": [
    "Now we can retrieve all the pipes belonging to the gas network.\n",
    "For this, we can make a query, that asks for all pipes belonging to the network with the correct ID.\n",
    "To do so, we start again by retrieving all the definitions of the relevant data types:"
   ]
  },
  {
   "cell_type": "code",
   "execution_count": 10,
   "metadata": {},
   "outputs": [],
   "source": [
    "# Get definition of type \"RoundPipe\" from view \"utn9_ntw_feat_distrib_elem_pipe_round\". \n",
    "RoundPipe = db_access.map_citydb_object_class( \n",
    "    'RoundPipe', \n",
    "    table_name='utn9_ntw_feat_distrib_elem_pipe_round', schema='citydb_view' \n",
    ")\n",
    "\n",
    "# Get definition of linking between objects of type \"NetworkFeature\" to objects \n",
    "# of type \"Network\" from table \"utn9_network_to_network_feature\". \n",
    "# This linking has no official name, so we call it \"NetworkToFeature\".\n",
    "NetworkToFeature = db_access.map_citydb_object_class( \n",
    "    'NetworkToFeature', \n",
    "    table_name='utn9_network_to_network_feature', schema='citydb', user_defined = True\n",
    ")"
   ]
  },
  {
   "cell_type": "markdown",
   "metadata": {},
   "source": [
    "Now we can make the actual query to retrieve the data:"
   ]
  },
  {
   "cell_type": "code",
   "execution_count": 11,
   "metadata": {},
   "outputs": [],
   "source": [
    "pipes_db_data = db_access.join_citydb_objects(\n",
    "    [ 'RoundPipe', 'NetworkToFeature' ], \n",
    "    conditions = [\n",
    "        # These conditions make sure that we only retrieve pipes belonging to the network with ID=3000.\n",
    "        RoundPipe.id == NetworkToFeature.network_feature_id,\n",
    "        NetworkToFeature.network_id == 3000        \n",
    "        ]\n",
    "    )"
   ]
  },
  {
   "cell_type": "markdown",
   "metadata": {},
   "source": [
    "## Associate results to pipes stored in database\n",
    "\n",
    "We will use the [Scenario ADE](https://github.com/gioagu/3dcitydb_scenario_ade) to associate the simulation results (mass flow rates) with objects (pipes).\n",
    "The Scenario ADE is a domain extension for the 3DCityDB for storing, representing, and managing entities and attributes related to specific scenarios (such as the results of a specific simulation).\n",
    "\n",
    "Package dblayer provides helper functions and classes (*dblayer.helpers.scn*) for storing time series to the 3DCityDB and associating it with other objects in the database.\n",
    "In this specific example, we collect the mass flow rate results and the link to the corresponding pipes with the help of instances of class *SimResultRegularTimeSeries*:"
   ]
  },
  {
   "cell_type": "code",
   "execution_count": 12,
   "metadata": {},
   "outputs": [],
   "source": [
    "import datetime\n",
    "from dblayer.helpers.scn.add_sim_results import *\n",
    "\n",
    "# We will fill this list with the data that will be added to the 3DCityDB.\n",
    "sim_res_ts = []\n",
    "\n",
    "# Iterate through all pipes.\n",
    "for data in pipes_db_data:\n",
    "    \n",
    "    # Retrieve pipe data and corresponding simulation results.\n",
    "    pipe = data[0]\n",
    "    val_array_m_dot = pipes_m_dot[pipe.name]\n",
    "    \n",
    "    # Put together all relevant information in an instance of class \"SimResultRegularTimeSeries\".\n",
    "    ts_m_dot = SimResultRegularTimeSeries(\n",
    "        name = '{}_m_dot'.format(pipe.name),\n",
    "        # Provide link to pipe via its object ID.\n",
    "        object_id = pipe.id,\n",
    "        # Provide the actual time series data and all relevant information about it.\n",
    "        values_array = val_array_m_dot,\n",
    "        values_unit = 'kg/s',\n",
    "        temporal_extent_begin = datetime.datetime( 2020, 1, 1, 0, 0, 0 ),\n",
    "        temporal_extent_end = datetime.datetime( 2020, 1, 1, 11, 0, 0 ),\n",
    "        time_interval = 1,\n",
    "        time_interval_unit = 'h',\n",
    "        acquisition_method = 'Simulation',\n",
    "        interpolation_type = 'AverageInSucceedingInterval',\n",
    "        )\n",
    "\n",
    "    # Add this to the list of data to be added to the 3DCityDB.\n",
    "    sim_res_ts.append(ts_m_dot)"
   ]
  },
  {
   "cell_type": "markdown",
   "metadata": {},
   "source": [
    "Now we can use function *add_sim_results_regular_time_series* to add these results to the 3DCityDB:"
   ]
  },
  {
   "cell_type": "code",
   "execution_count": 13,
   "metadata": {},
   "outputs": [
    {
     "data": {
      "text/plain": [
       "1"
      ]
     },
     "execution_count": 13,
     "metadata": {},
     "output_type": "execute_result"
    }
   ],
   "source": [
    "add_sim_results_regular_time_series(\n",
    "    db_access,\n",
    "    'GasGridSimResults',\n",
    "    sim_res_ts\n",
    "    )"
   ]
  },
  {
   "cell_type": "markdown",
   "metadata": {},
   "source": [
    "## Save the results to the database\n",
    "\n",
    "Above, the data was *added* to the database session. In order to make it persistent, i.e., to store it permanently in the database, it has to be *committed* to the 3DCityDB.\n",
    "This is done via *commit_citydb_session*:"
   ]
  },
  {
   "cell_type": "code",
   "execution_count": 14,
   "metadata": {},
   "outputs": [],
   "source": [
    "db_access.commit_citydb_session()"
   ]
  },
  {
   "cell_type": "markdown",
   "metadata": {},
   "source": [
    "Finally, delete the instance of class DBAccess to close the session."
   ]
  },
  {
   "cell_type": "code",
   "execution_count": 15,
   "metadata": {},
   "outputs": [],
   "source": [
    "del db_access"
   ]
  },
  {
   "cell_type": "markdown",
   "metadata": {},
   "source": [
    "Next up is notebook [4_visualize_sim_results.ipynb](../4_visualize/4_visualize_sim_results.ipynb), which demonstrates how to extract data from the 3DCItyDB and visualize it."
   ]
  }
 ],
 "metadata": {
  "kernelspec": {
   "display_name": "Python 3",
   "language": "python",
   "name": "python3"
  },
  "language_info": {
   "codemirror_mode": {
    "name": "ipython",
    "version": 3
   },
   "file_extension": ".py",
   "mimetype": "text/x-python",
   "name": "python",
   "nbconvert_exporter": "python",
   "pygments_lexer": "ipython3",
   "version": "3.6.8"
  }
 },
 "nbformat": 4,
 "nbformat_minor": 4
}
