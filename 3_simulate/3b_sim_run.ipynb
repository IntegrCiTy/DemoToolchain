{
 "cells": [
  {
   "cell_type": "markdown",
   "metadata": {},
   "source": [
    "# Run gas grid simulation\n",
    "## Define connection parameters for database"
   ]
  },
  {
   "cell_type": "code",
   "execution_count": 1,
   "metadata": {},
   "outputs": [],
   "source": [
    "from dblayer import *\n",
    "\n",
    "connect = PostgreSQLConnectionInfo(\n",
    "    user = 'postgres',\n",
    "    pwd = 'postgres',\n",
    "    host = 'localhost',\n",
    "    port = '5432',\n",
    "    dbname = 'citydb'\n",
    ")"
   ]
  },
  {
   "cell_type": "markdown",
   "metadata": {},
   "source": [
    "## Retrieve co-simulation graph from the database"
   ]
  },
  {
   "cell_type": "code",
   "execution_count": 2,
   "metadata": {},
   "outputs": [],
   "source": [
    "from dblayer.zerobnl.reader import *\n",
    "\n",
    "reader = DBReader( connect )\n",
    "sim = reader.read_from_db( 'GasGridSim' )"
   ]
  },
  {
   "cell_type": "code",
   "execution_count": 3,
   "metadata": {},
   "outputs": [
    {
     "data": {
      "text/html": [
       "<div>\n",
       "<style scoped>\n",
       "    .dataframe tbody tr th:only-of-type {\n",
       "        vertical-align: middle;\n",
       "    }\n",
       "\n",
       "    .dataframe tbody tr th {\n",
       "        vertical-align: top;\n",
       "    }\n",
       "\n",
       "    .dataframe thead th {\n",
       "        text-align: right;\n",
       "    }\n",
       "</style>\n",
       "<table border=\"1\" class=\"dataframe\">\n",
       "  <thead>\n",
       "    <tr style=\"text-align: right;\">\n",
       "      <th></th>\n",
       "      <th>ToSet</th>\n",
       "      <th>ToGet</th>\n",
       "      <th>InitVal</th>\n",
       "      <th>Parameters</th>\n",
       "      <th>Wrapper</th>\n",
       "      <th>Dockerfile</th>\n",
       "      <th>Files</th>\n",
       "      <th>Local</th>\n",
       "      <th>Meta</th>\n",
       "      <th>Env</th>\n",
       "    </tr>\n",
       "  </thead>\n",
       "  <tbody>\n",
       "    <tr>\n",
       "      <th>GasGrid</th>\n",
       "      <td>[(gas_node282/p_kW, kW), (gas_node274/p_kW, kW...</td>\n",
       "      <td>[]</td>\n",
       "      <td>{'network_id': 3000, 'dbport': 5432, 'dbname':...</td>\n",
       "      <td>{}</td>\n",
       "      <td>/c/Development/integrcity/DemoToolchain/3_simu...</td>\n",
       "      <td>/c/Development/integrcity/DemoToolchain/3_simu...</td>\n",
       "      <td>[]</td>\n",
       "      <td>False</td>\n",
       "      <td>GasGridMeta</td>\n",
       "      <td>GasGridEnv</td>\n",
       "    </tr>\n",
       "    <tr>\n",
       "      <th>Consumers</th>\n",
       "      <td>[]</td>\n",
       "      <td>[(gas_node282, kW), (gas_node274, kW), (gas_no...</td>\n",
       "      <td>{'start_date': '2019-01-01 00:00:00+00:00'}</td>\n",
       "      <td>{}</td>\n",
       "      <td>/c/Development/integrcity/DemoToolchain/3_simu...</td>\n",
       "      <td>/c/Development/integrcity/DemoToolchain/3_simu...</td>\n",
       "      <td>[/c/Development/integrcity/DemoToolchain/3_sim...</td>\n",
       "      <td>False</td>\n",
       "      <td>ConsumersMeta</td>\n",
       "      <td>ConsumersEnv</td>\n",
       "    </tr>\n",
       "  </tbody>\n",
       "</table>\n",
       "</div>"
      ],
      "text/plain": [
       "                                                       ToSet  \\\n",
       "GasGrid    [(gas_node282/p_kW, kW), (gas_node274/p_kW, kW...   \n",
       "Consumers                                                 []   \n",
       "\n",
       "                                                       ToGet  \\\n",
       "GasGrid                                                   []   \n",
       "Consumers  [(gas_node282, kW), (gas_node274, kW), (gas_no...   \n",
       "\n",
       "                                                     InitVal Parameters  \\\n",
       "GasGrid    {'network_id': 3000, 'dbport': 5432, 'dbname':...         {}   \n",
       "Consumers        {'start_date': '2019-01-01 00:00:00+00:00'}         {}   \n",
       "\n",
       "                                                     Wrapper  \\\n",
       "GasGrid    /c/Development/integrcity/DemoToolchain/3_simu...   \n",
       "Consumers  /c/Development/integrcity/DemoToolchain/3_simu...   \n",
       "\n",
       "                                                  Dockerfile  \\\n",
       "GasGrid    /c/Development/integrcity/DemoToolchain/3_simu...   \n",
       "Consumers  /c/Development/integrcity/DemoToolchain/3_simu...   \n",
       "\n",
       "                                                       Files  Local  \\\n",
       "GasGrid                                                   []  False   \n",
       "Consumers  [/c/Development/integrcity/DemoToolchain/3_sim...  False   \n",
       "\n",
       "                    Meta           Env  \n",
       "GasGrid      GasGridMeta    GasGridEnv  \n",
       "Consumers  ConsumersMeta  ConsumersEnv  "
      ]
     },
     "execution_count": 3,
     "metadata": {},
     "output_type": "execute_result"
    }
   ],
   "source": [
    "sim.nodes"
   ]
  },
  {
   "cell_type": "markdown",
   "metadata": {},
   "source": [
    "## Make the 3DCityDB available in the simulation"
   ]
  },
  {
   "cell_type": "code",
   "execution_count": 4,
   "metadata": {},
   "outputs": [],
   "source": [
    "sim.add_container_to_simulation( 'citydb-container' )"
   ]
  },
  {
   "cell_type": "markdown",
   "metadata": {},
   "source": [
    "## Running the simulation"
   ]
  },
  {
   "cell_type": "code",
   "execution_count": 5,
   "metadata": {},
   "outputs": [
    {
     "name": "stderr",
     "output_type": "stream",
     "text": [
      "INFO :: Simulation finished in 53 min and 51 sec\n"
     ]
    }
   ],
   "source": [
    "sim.run()"
   ]
  },
  {
   "cell_type": "markdown",
   "metadata": {},
   "source": [
    "## Retrieve the simulation results"
   ]
  },
  {
   "cell_type": "code",
   "execution_count": 6,
   "metadata": {},
   "outputs": [
    {
     "data": {
      "text/html": [
       "<div>\n",
       "<style scoped>\n",
       "    .dataframe tbody tr th:only-of-type {\n",
       "        vertical-align: middle;\n",
       "    }\n",
       "\n",
       "    .dataframe tbody tr th {\n",
       "        vertical-align: top;\n",
       "    }\n",
       "\n",
       "    .dataframe thead th {\n",
       "        text-align: right;\n",
       "    }\n",
       "</style>\n",
       "<table border=\"1\" class=\"dataframe\">\n",
       "  <thead>\n",
       "    <tr style=\"text-align: right;\">\n",
       "      <th></th>\n",
       "      <th>IN/OUT</th>\n",
       "      <th>Node</th>\n",
       "      <th>Attribute</th>\n",
       "    </tr>\n",
       "  </thead>\n",
       "  <tbody>\n",
       "    <tr>\n",
       "      <th>0</th>\n",
       "      <td>X</td>\n",
       "      <td>GasGrid</td>\n",
       "      <td>gas_node195/P</td>\n",
       "    </tr>\n",
       "    <tr>\n",
       "      <th>1</th>\n",
       "      <td>X</td>\n",
       "      <td>GasGrid</td>\n",
       "      <td>gas_node36/P</td>\n",
       "    </tr>\n",
       "    <tr>\n",
       "      <th>2</th>\n",
       "      <td>OUT</td>\n",
       "      <td>Consumers</td>\n",
       "      <td>gas_node58</td>\n",
       "    </tr>\n",
       "    <tr>\n",
       "      <th>3</th>\n",
       "      <td>X</td>\n",
       "      <td>GasGrid</td>\n",
       "      <td>gas_node7/P</td>\n",
       "    </tr>\n",
       "    <tr>\n",
       "      <th>4</th>\n",
       "      <td>OUT</td>\n",
       "      <td>Consumers</td>\n",
       "      <td>gas_node159</td>\n",
       "    </tr>\n",
       "    <tr>\n",
       "      <th>...</th>\n",
       "      <td>...</td>\n",
       "      <td>...</td>\n",
       "      <td>...</td>\n",
       "    </tr>\n",
       "    <tr>\n",
       "      <th>682</th>\n",
       "      <td>OUT</td>\n",
       "      <td>Consumers</td>\n",
       "      <td>gas_node71</td>\n",
       "    </tr>\n",
       "    <tr>\n",
       "      <th>683</th>\n",
       "      <td>X</td>\n",
       "      <td>GasGrid</td>\n",
       "      <td>gas_pipe3-256/m_dot</td>\n",
       "    </tr>\n",
       "    <tr>\n",
       "      <th>684</th>\n",
       "      <td>X</td>\n",
       "      <td>GasGrid</td>\n",
       "      <td>gas_pipe38-233/m_dot</td>\n",
       "    </tr>\n",
       "    <tr>\n",
       "      <th>685</th>\n",
       "      <td>X</td>\n",
       "      <td>GasGrid</td>\n",
       "      <td>gas_node217/P</td>\n",
       "    </tr>\n",
       "    <tr>\n",
       "      <th>686</th>\n",
       "      <td>X</td>\n",
       "      <td>GasGrid</td>\n",
       "      <td>gas_pipe48-255/m_dot</td>\n",
       "    </tr>\n",
       "  </tbody>\n",
       "</table>\n",
       "<p>687 rows × 3 columns</p>\n",
       "</div>"
      ],
      "text/plain": [
       "    IN/OUT       Node             Attribute\n",
       "0        X    GasGrid         gas_node195/P\n",
       "1        X    GasGrid          gas_node36/P\n",
       "2      OUT  Consumers            gas_node58\n",
       "3        X    GasGrid           gas_node7/P\n",
       "4      OUT  Consumers           gas_node159\n",
       "..     ...        ...                   ...\n",
       "682    OUT  Consumers            gas_node71\n",
       "683      X    GasGrid   gas_pipe3-256/m_dot\n",
       "684      X    GasGrid  gas_pipe38-233/m_dot\n",
       "685      X    GasGrid         gas_node217/P\n",
       "686      X    GasGrid  gas_pipe48-255/m_dot\n",
       "\n",
       "[687 rows x 3 columns]"
      ]
     },
     "execution_count": 6,
     "metadata": {},
     "output_type": "execute_result"
    }
   ],
   "source": [
    "sim.connect_to_results_db()\n",
    "sim.get_list_of_available_results()"
   ]
  },
  {
   "cell_type": "code",
   "execution_count": 7,
   "metadata": {},
   "outputs": [],
   "source": [
    "import logging\n",
    "logging.getLogger(\"ZEROBNL\").setLevel(logging.WARNING)"
   ]
  },
  {
   "cell_type": "code",
   "execution_count": 8,
   "metadata": {},
   "outputs": [
    {
     "name": "stdout",
     "output_type": "stream",
     "text": [
      "Found 564 results.\n"
     ]
    }
   ],
   "source": [
    "results = sim.get_results_by_pattern(\"X||GasGrid||*\")\n",
    "print( 'Found {} results.'.format( len( results ) ) )"
   ]
  },
  {
   "cell_type": "markdown",
   "metadata": {},
   "source": [
    "# Write results to database\n",
    "\n",
    "## Extract results for individual pipes"
   ]
  },
  {
   "cell_type": "code",
   "execution_count": 9,
   "metadata": {},
   "outputs": [],
   "source": [
    "pipes_m_dot = {}\n",
    "\n",
    "for name, ts in results.items():\n",
    "    if 'm_dot' in name:\n",
    "        sim_var_name = name.split('||')[2]\n",
    "        pipe_name = sim_var_name.split('/')[0]\n",
    "        pipes_m_dot[pipe_name] = list(ts.array)"
   ]
  },
  {
   "cell_type": "markdown",
   "metadata": {},
   "source": [
    "## Retrieve information about pipes stored in database"
   ]
  },
  {
   "cell_type": "code",
   "execution_count": 10,
   "metadata": {},
   "outputs": [],
   "source": [
    "db_access = DBAccess()\n",
    "db_access.connect_to_citydb(connect)"
   ]
  },
  {
   "cell_type": "code",
   "execution_count": 11,
   "metadata": {},
   "outputs": [],
   "source": [
    "RoundPipe = db_access.map_citydb_object_class( 'RoundPipe',\n",
    "    table_name='utn9_ntw_feat_distrib_elem_pipe_round', schema='citydb_view' \n",
    "    )\n",
    "\n",
    "NetworkToFeature = db_access.map_citydb_object_class( 'NetworkToFeature',\n",
    "    table_name='utn9_network_to_network_feature', schema='citydb', user_defined = True\n",
    "    )\n",
    "\n",
    "pipes_db_data = db_access.join_citydb_objects(\n",
    "    [ 'RoundPipe', 'NetworkToFeature' ], \n",
    "    conditions = [\n",
    "        RoundPipe.id == NetworkToFeature.network_feature_id,\n",
    "        NetworkToFeature.network_id == 3000        \n",
    "        ]\n",
    "    )"
   ]
  },
  {
   "cell_type": "markdown",
   "metadata": {},
   "source": [
    "## Associate results to pipes stored in database"
   ]
  },
  {
   "cell_type": "code",
   "execution_count": 12,
   "metadata": {},
   "outputs": [],
   "source": [
    "import datetime\n",
    "from dblayer.helpers.scn.add_sim_results import *\n",
    "\n",
    "sim_res_ts = []\n",
    "\n",
    "for data in pipes_db_data:\n",
    "    \n",
    "    pipe = data[0]\n",
    "    val_array_m_dot = pipes_m_dot[pipe.name]\n",
    "    \n",
    "    ts_m_dot = SimResultRegularTimeSeries(\n",
    "        name = '{}_m_dot'.format(pipe.name),\n",
    "        object_id = pipe.id,\n",
    "        values_array = val_array_m_dot,\n",
    "        values_unit = 'kg/s',\n",
    "        temporal_extent_begin = datetime.datetime( 2020, 1, 1, 0, 0, 0 ),\n",
    "        temporal_extent_end = datetime.datetime( 2020, 1, 1, 23, 0, 0 ),\n",
    "        time_interval = 1,\n",
    "        time_interval_unit = 'h',\n",
    "        acquisition_method = 'Simulation',\n",
    "        interpolation_type = 'AverageInSucceedingInterval',\n",
    "        )\n",
    "\n",
    "    sim_res_ts.append(ts_m_dot)"
   ]
  },
  {
   "cell_type": "code",
   "execution_count": 13,
   "metadata": {},
   "outputs": [
    {
     "data": {
      "text/plain": [
       "1"
      ]
     },
     "execution_count": 13,
     "metadata": {},
     "output_type": "execute_result"
    }
   ],
   "source": [
    "add_sim_results_regular_time_series(\n",
    "    db_access,\n",
    "    'GasGridSimResults',\n",
    "    sim_res_ts\n",
    "    )"
   ]
  },
  {
   "cell_type": "code",
   "execution_count": 14,
   "metadata": {},
   "outputs": [],
   "source": [
    "db_access.commit_citydb_session()"
   ]
  },
  {
   "cell_type": "code",
   "execution_count": 15,
   "metadata": {},
   "outputs": [],
   "source": [
    "del db_access"
   ]
  },
  {
   "cell_type": "code",
   "execution_count": null,
   "metadata": {},
   "outputs": [],
   "source": []
  }
 ],
 "metadata": {
  "kernelspec": {
   "display_name": "Python 3",
   "language": "python",
   "name": "python3"
  },
  "language_info": {
   "codemirror_mode": {
    "name": "ipython",
    "version": 3
   },
   "file_extension": ".py",
   "mimetype": "text/x-python",
   "name": "python",
   "nbconvert_exporter": "python",
   "pygments_lexer": "ipython3",
   "version": "3.6.8"
  }
 },
 "nbformat": 4,
 "nbformat_minor": 4
}
