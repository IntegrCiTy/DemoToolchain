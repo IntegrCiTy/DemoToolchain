{
 "cells": [
  {
   "cell_type": "markdown",
   "metadata": {},
   "source": [
    "# Import networks data to the 3DCityDB\n",
    "\n",
    "This notebook shows how the **IntegrCiTy Data Access Layer** (DAL) can be used to import data to the 3DCityDB. \n",
    "In this specific example, **geometric data** (2D line diagram) and of a gas network is **extracted** from separate sources (shapefiles), **consolidated** and **stored** in the database.\n",
    "\n",
    "## Extracting the data\n",
    "\n",
    "In this example, we extract and consolidate data from various files.\n",
    "In this case, all the date is tored in 2 separate shapefiles:\n",
    "* **Gas network pipes**: The positions of all pipes are stored as 2D line diagrams, where each pipe is defined by 2 points (start and end point of a straight pipe).\n",
    "* **Gas network nodes**: Nodes are points in space where either a pipe is connected to a network boundary (substation, building) or where two or more pipes are joined.\n",
    "\n",
    "In this example, both data sets use a consistent set of IDs to refer to pipes and nodes, which makes it possible to easily link the data from both sets.\n",
    "For instance, there is a pipe called *gas_pipe83-224*, whose starting and ending points coincide with *gas_node83* and *gas_node224*, respectively.\n",
    "By checking the data of these nodes, it is possible to see that this pipe is connected to a building on one side (*gas_node83* is connected to *building126*) and that two other pipes are joined to it (*gas_pipe223-224* and *gas_pipe224-225* via *gas_node224*).\n",
    "In real-life applications it might take another pre-processing step to link the available data.\n",
    "\n",
    "The image below visualizes part of the network data from the shapefile (with the help of [QGIS](https://www.qgis.org/)).\n",
    "\n",
    "<img src=\"./img/network.png\" style=\"height:14cm\">\n",
    "\n",
    "Before we start, let's define a few tuples and dicts that will be helpful to collect and process the data from the shapefiles:"
   ]
  },
  {
   "cell_type": "code",
   "execution_count": 1,
   "metadata": {},
   "outputs": [],
   "source": [
    "from collections import namedtuple\n",
    "\n",
    "# This tuple and dict are used to collect data common to all nodes.\n",
    "NodeData = namedtuple( 'NodeData', [ 'level', 'x' ,'y' ] )\n",
    "nodes = {}\n",
    "\n",
    "# This tuple and dict are used to collect data common to nodes that represent networks sinks (i.e., connections to building).\n",
    "SinkData = namedtuple( 'SinkData', [ 'level', 'building_name' ] )\n",
    "sinks = {}\n",
    "\n",
    "# This tuple and dict are used to collect data common to nodes that represent networks sources (i.e., connections to substations).\n",
    "SourceData = namedtuple( 'SourceData', [ 'level', 'p_lim_kw', 'p_pa' ] )\n",
    "sources = {}\n",
    "\n",
    "# This tuple and dict are used to collect data about pipes.\n",
    "PipeData = namedtuple( 'PipeData', [ 'length', 'diameter_m', 'from_node', 'to_node' ] )\n",
    "pipes = {}"
   ]
  },
  {
   "cell_type": "markdown",
   "metadata": {},
   "source": [
    "Like in the previous example, the [Python Shapefile Library (PyShp)](https://pypi.org/project/pyshp/) is used to exatract the shapefile data for the nodes:"
   ]
  },
  {
   "cell_type": "code",
   "execution_count": 2,
   "metadata": {},
   "outputs": [],
   "source": [
    "import shapefile\n",
    "import os, os.path\n",
    "\n",
    "gas_nodes_data = shapefile.Reader( os.path.join( os.getcwd(), '..', '1_data', 'shapefiles', 'gas_network_nodes' ) )\n",
    "assert( gas_nodes_data.shapeType == shapefile.POINT )"
   ]
  },
  {
   "cell_type": "markdown",
   "metadata": {},
   "source": [
    "Let's go through and extract the nodes data.\n",
    "We use the tuples and dicts defined above to extract data common to all the nodes as well as data specific to sources and sinks:"
   ]
  },
  {
   "cell_type": "code",
   "execution_count": 3,
   "metadata": {},
   "outputs": [],
   "source": [
    "for data in gas_nodes_data:\n",
    "    # Retrieve 2D coordinates.\n",
    "    x = data.shape.points[0][0]\n",
    "    y = data.shape.points[0][1]\n",
    "\n",
    "    # Extract data common to all nodes.\n",
    "    nodes[data.record['name']] = NodeData( data.record['level'], x, y )\n",
    "    \n",
    "    # Extract data only relevant for sinks and sources.\n",
    "    if data.record['type'] == 'SINK':\n",
    "        sinks[data.record['name']] = SinkData( data.record['level'], data.record['build_id'] )\n",
    "    elif data.record['type'] == 'SRCE':\n",
    "        sources[data.record['name']] = SourceData( data.record['level'], data.record['p_lim_kw'], data.record['p_lim_kw'] )"
   ]
  },
  {
   "cell_type": "markdown",
   "metadata": {},
   "source": [
    "Now load the pipes data:"
   ]
  },
  {
   "cell_type": "code",
   "execution_count": 4,
   "metadata": {},
   "outputs": [],
   "source": [
    "gas_pipes_data = shapefile.Reader( os.path.join( os.getcwd(), '..', '1_data', 'shapefiles', 'gas_network_pipes' ) )\n",
    "assert( gas_pipes_data.shapeType == shapefile.POLYLINE )"
   ]
  },
  {
   "cell_type": "markdown",
   "metadata": {},
   "source": [
    "Now go through and extract the pipes data, using the dict and tuple defined above:"
   ]
  },
  {
   "cell_type": "code",
   "execution_count": 5,
   "metadata": {},
   "outputs": [],
   "source": [
    "from math import *\n",
    "\n",
    "for data in gas_pipes_data:\n",
    "    # Retrieve the pipe's start and end point.\n",
    "    p1 = data.shape.points[0]\n",
    "    p2 = data.shape.points[1]\n",
    "    \n",
    "    # Calculate the pipe's length.\n",
    "    length = sqrt( pow( p1[0] - p2[0], 2 ) + pow( p1[1] - p2[1], 2) )\n",
    "    \n",
    "    # Extract the relevant data.\n",
    "    pipes[data.record['name']] = \\\n",
    "        PipeData( length, data.record['diameter_m'], data.record['from_node'], data.record['to_node'] )"
   ]
  },
  {
   "cell_type": "markdown",
   "metadata": {},
   "source": [
    "## Accessing the 3DCityDB through the IntegrCiTy DAL\n",
    "\n",
    "Like in the previous examples, load [package dblayer](https://github.com/IntegrCiTy/dblayer).\n",
    "The following lines import the core of the package (*dblayer*) for accessing the database:"
   ]
  },
  {
   "cell_type": "code",
   "execution_count": 6,
   "metadata": {},
   "outputs": [],
   "source": [
    "from dblayer import *\n",
    "\n",
    "connect = PostgreSQLConnectionInfo(\n",
    "    user = 'postgres',\n",
    "    pwd = 'postgres',\n",
    "    host = 'localhost',\n",
    "    port = '5432',\n",
    "    dbname = 'citydb'\n",
    "    )\n",
    "\n",
    "db_access = DBAccess()\n",
    "db_access.connect_to_citydb( connect )"
   ]
  },
  {
   "cell_type": "markdown",
   "metadata": {},
   "source": [
    "Specify the spatial reference identifier (SRID) used by the 3DCityDB instance. If you have used the setup scripts for installing the extended 3DCityDB provided as part of package dblayer, then the default SRID is 4326."
   ]
  },
  {
   "cell_type": "code",
   "execution_count": 7,
   "metadata": {},
   "outputs": [],
   "source": [
    "srid = 4326"
   ]
  },
  {
   "cell_type": "markdown",
   "metadata": {},
   "source": [
    "## Consolidating the network data and adding it to the database\n",
    "\n",
    "Networks can be represented in the 3DCityDB with the help of the [Utility Network ADE](https://github.com/TatjanaKutzner/CityGML-UtilityNetwork-ADE) (UNADE).\n",
    "This CityGML domain extension provides a very flexible framework to store both **topographical data** (e.g., coordinates and shapes) and **topological data** (e.g., functional connections between network features) of various types of networks.\n",
    "However, with flexibility also comes complexity, which makes the usage of the UNADE a non-trivial task for new users.\n",
    "To this end, [package dblayer](https://github.com/IntegrCiTy/dblayer) provides helper functions (*dblayer.helpers.utn*) that  will be used further down in this notebook.\n",
    "\n",
    "Start by adding a new network object to the 3DCityDB called *gas_network*. The returned values are the IDs of the associated (but still empty) *Network* and *NetworkGraph* objects, which represent the topographical and topological aspects of the network, respectively."
   ]
  },
  {
   "cell_type": "code",
   "execution_count": 8,
   "metadata": {},
   "outputs": [],
   "source": [
    "from dblayer.helpers.utn.gas_network import *\n",
    "\n",
    "( ntw_id, ntw_graph_id ) = write_network_to_db(\n",
    "    db_access,\n",
    "    name = 'gas_network',\n",
    "    id = 3000\n",
    "    )"
   ]
  },
  {
   "cell_type": "markdown",
   "metadata": {},
   "source": [
    "We will start building up the network contents in the 3DCityDB by adding the nodes using function *write_network_node_to_db*.\n",
    "For every new node added to the network, this functions returns an instance of class *GasNetworkNodeData*, which holds the most relevant information of the associated database object (see [here](https://github.com/IntegrCiTy/dblayer/blob/master/dblayer/helpers/utn/gas_network.py) for details).\n",
    "For further processing, we also store this information in a separate dict:"
   ]
  },
  {
   "cell_type": "code",
   "execution_count": 9,
   "metadata": {},
   "outputs": [],
   "source": [
    "# Dict for storing information returned from database.\n",
    "nodes_db_data = {}\n",
    "\n",
    "for name, data in nodes.items():\n",
    "    nodes_db_data[name] = write_network_node_to_db(\n",
    "        db_access,\n",
    "        name,\n",
    "        data.level,\n",
    "        Point2D( data.x, data.y ),\n",
    "        srid,\n",
    "        ntw_id,\n",
    "        ntw_graph_id )"
   ]
  },
  {
   "cell_type": "markdown",
   "metadata": {},
   "source": [
    "Next, we add the pipes to the database with the help of function *write_round_pipe_to_db*.\n",
    "For this, we can already make good use of the information returned in the previous step:"
   ]
  },
  {
   "cell_type": "code",
   "execution_count": 10,
   "metadata": {},
   "outputs": [],
   "source": [
    "for name, data in pipes.items():\n",
    "\n",
    "    pipe_id = write_round_pipe_to_db(\n",
    "        db_access,\n",
    "        name,\n",
    "        # Provide information about database object associated with the starting node:\n",
    "        nodes_db_data[data.from_node], \n",
    "        # Provide information about database object associated with the end node:\n",
    "        nodes_db_data[data.to_node],\n",
    "        srid,\n",
    "        ntw_id,\n",
    "        ntw_graph_id,\n",
    "        int_diameter = data.diameter_m,\n",
    "        int_diameter_unit = 'm',\n",
    "    )\n"
   ]
  },
  {
   "cell_type": "markdown",
   "metadata": {},
   "source": [
    "We also want to link the network sinks to the buildings already stored in the database.\n",
    "For this, we retrieve all buildings data:"
   ]
  },
  {
   "cell_type": "code",
   "execution_count": 11,
   "metadata": {},
   "outputs": [],
   "source": [
    "buildings_db_data = db_access.get_citydb_objects( \n",
    "    'Building',\n",
    "    table_name='building', \n",
    "    schema='citydb_view' \n",
    ")\n",
    "\n",
    "buildings_db_id = { b.name: b.id for b in buildings_db_data}"
   ]
  },
  {
   "cell_type": "markdown",
   "metadata": {},
   "source": [
    "Network sinks can be represented by objects of type *TerminalElement*, which are associated both to a network node and another CityGML object (a building in this case).\n",
    "To make this association, we can use function *write_gas_sink_to_db*:"
   ]
  },
  {
   "cell_type": "code",
   "execution_count": 12,
   "metadata": {},
   "outputs": [],
   "source": [
    "for name, data in sinks.items():\n",
    "\n",
    "    write_gas_sink_to_db(\n",
    "        db_access,\n",
    "        name,\n",
    "        # Provide information about database object associated with the network node:\n",
    "        nodes_db_data[name],\n",
    "        # Provide default value for consumption (static) of this terminal element:\n",
    "        10.,\n",
    "        'kW',\n",
    "        srid,\n",
    "        ntw_id,\n",
    "        ntw_graph_id,\n",
    "        # Provide ID of city object that should be linked:\n",
    "        buildings_db_id[data.building_name]\n",
    "        )"
   ]
  },
  {
   "cell_type": "markdown",
   "metadata": {},
   "source": [
    "Similarly, we can represent sources (e.g., substations) by objects of type *TerminalElement*.\n",
    "To make this association, we can use function *write_feeder_to_db*:"
   ]
  },
  {
   "cell_type": "code",
   "execution_count": 13,
   "metadata": {},
   "outputs": [],
   "source": [
    "for name, data in sources.items():\n",
    "\n",
    "    write_feeder_to_db(\n",
    "        db_access,\n",
    "        name,\n",
    "        # Provide information about database object associated with the network node:\n",
    "        nodes_db_data[name],\n",
    "        # Provide default value for generation (rating, static) of this terminal element:\n",
    "        data.p_lim_kw,\n",
    "        data.p_pa,\n",
    "        srid,\n",
    "        ntw_id,\n",
    "        ntw_graph_id\n",
    "        )"
   ]
  },
  {
   "cell_type": "markdown",
   "metadata": {},
   "source": [
    "## Storing the data to the 3DCityDB\n",
    "\n",
    "Above, the data was *added* to the database session. In order to make it persistent, i.e., to store it permanently in the database, it has to be *committed* to the 3DCityDB.\n",
    "This is done via *commit_citydb_session*:"
   ]
  },
  {
   "cell_type": "code",
   "execution_count": 14,
   "metadata": {},
   "outputs": [],
   "source": [
    "db_access.commit_citydb_session()"
   ]
  },
  {
   "cell_type": "markdown",
   "metadata": {},
   "source": [
    "Finally, delete the instance of class DBAccess to close the session."
   ]
  },
  {
   "cell_type": "code",
   "execution_count": 15,
   "metadata": {},
   "outputs": [],
   "source": [
    "del db_access"
   ]
  },
  {
   "cell_type": "markdown",
   "metadata": {},
   "source": [
    "Next up is notebook [3a_sim_setup.ipynb](../3_simulate/3a_sim_setup.ipynb), which demonstrates how to use the IntegrCiTy DAL to create a simulation setup for analyzing this gas network."
   ]
  }
 ],
 "metadata": {
  "kernelspec": {
   "display_name": "Python 3",
   "language": "python",
   "name": "python3"
  },
  "language_info": {
   "codemirror_mode": {
    "name": "ipython",
    "version": 3
   },
   "file_extension": ".py",
   "mimetype": "text/x-python",
   "name": "python",
   "nbconvert_exporter": "python",
   "pygments_lexer": "ipython3",
   "version": "3.6.8"
  }
 },
 "nbformat": 4,
 "nbformat_minor": 4
}
